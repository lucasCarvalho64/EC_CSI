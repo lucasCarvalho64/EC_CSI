{
 "cells": [
  {
   "cell_type": "markdown",
   "metadata": {},
   "source": [
    "# **Estruturas criptograficas: TP3 problema 1**"
   ]
  },
  {
   "cell_type": "markdown",
   "metadata": {},
   "source": [
    "## Introdução\n",
    "\n",
    "Nguyen & Shparlinsk, propõem reduções do Hidden Number Problem (HNP) a problemas difíceis em reticulados. Neste trabalho pretende-se construir, com a ajuda do Sagemath, uma implementação da solução discutida nos apontamentos para resolver o HNP com soluções aproximadas dos problemas em reticulados.\n",
    "\n",
    "## Descrição\n",
    "\n",
    "Para tal foi criada uma classe com os valores iniciais, **p**, **k** (calc_k), **n** (calc_n), **lam**, onde também é gerado um segredo pseudo-aletório **s**, e os vetores **xs** e **us**, a partir de s.\n",
    "\n",
    "O passo seguinte consistiu em criar a matriz **G**, contruída a partir da matriz identidade (de tamanho n) multiplicada por **p**, onde à mesma foram adicionadas duas colunas de zeros, e duas linhas, onde a penúltima é o vetor **xs**, seguido de [A,0], e a última linha é contituída pelo vetor **us** * **-B**, seguido de [0,M]. De seguida, é aplicada a redução de base Lattice, à matriz **G**.\n",
    "\n",
    "## Teste\n",
    "\n",
    "De modo a testar o **HNP**, foi implementada a função **compare**, que calcula o segredo a partir do penúltimo elemento da última linha, e compara-o com o segredo **s**."
   ]
  },
  {
   "cell_type": "code",
   "execution_count": 7,
   "metadata": {
    "vscode": {
     "languageId": "python"
    }
   },
   "outputs": [],
   "source": [
    "class HNP():\n",
    "    def __init__(self, p):\n",
    "        self.p = p\n",
    "        self.k = self.calc_k(p)\n",
    "        self.n = self.calc_n(p)\n",
    "        self.lam = 2^self.k        \n",
    "        \n",
    "        # Problem parameters\n",
    "        \n",
    "        # determinar  um segredo s != 0 em Zp  \n",
    "        self.s = ZZ.random_element(1,self.p)\n",
    "        \n",
    "        # a partir de uma sequência de n pares (x_i, u_i) em Zp x Zp\n",
    "        self.xs = [ZZ.random_element(1,self.p) for i in range(self.n)]\n",
    "        self.us = [self.msb(self.s*x % self.p) for x in self.xs ]\n",
    "        \n",
    "        \n",
    "    def calc_k(self, p):\n",
    "        d = log(p,2)\n",
    "        k = ceil(sqrt(d)) + ceil(log(d,2))\n",
    "        return k\n",
    "        \n",
    "    def calc_n(self, p):\n",
    "        d = log(p,2)\n",
    "        n = 2*ceil(sqrt(log(p,2)))\n",
    "        return n\n",
    "    \n",
    "    # most significant bits\n",
    "    def msb(self, y):\n",
    "        B = self.p / self.lam\n",
    "        return floor(y / B)\n",
    "    \n",
    "    def reduction_matrix(self):\n",
    "        \n",
    "        A = 1 / self.lam\n",
    "        B = self.p / self.lam \n",
    "        m = self.n + 2\n",
    "        M = self.p * self.lam\n",
    "        \n",
    "        # construção da matriz G\n",
    "        \n",
    "        # penúltima linha\n",
    "        lineX = Matrix(QQ, 1, m, [x for x in self.xs] + [A,0])\n",
    "        # última linha\n",
    "        lineU = Matrix(QQ, 1, m, [-u * B for u in self.us] + [0,M])\n",
    "        # últimas duas colunas a zeros\n",
    "        zeros = Matrix(QQ, self.n, 1, [0] * self.n)\n",
    "        # matriz identidade de dimensão n*n\n",
    "        ident = p * identity_matrix(ZZ, self.n)\n",
    "        # junção da identidade com as colunas a zeros\n",
    "        init = block_matrix(QQ, 1, 3,[ident, zeros, zeros])\n",
    "        # junção de todas as linhas\n",
    "        self.G = block_matrix(QQ, 3, 1, [init, lineX, lineU])\n",
    "        \n",
    "        # algoritmo de redução de base Lattice\n",
    "        self.G = self.G.LLL()\n",
    "        \n",
    "        \n",
    "    def compare(self):\n",
    "        \n",
    "        # penúltimo elemento da última linha\n",
    "        e   = self.G[-1][-2]\n",
    "        \n",
    "        # determina-se o segredo s como |lam * e_n+1|\n",
    "        calc_s = floor(e * self.lam) % self.p\n",
    "        \n",
    "        if self.s == calc_s:\n",
    "            print(\"Correct secret!\\n\")\n",
    "            print(\"Generated secret: \\t\", self.s)\n",
    "            print (\"Calculated secret: \\t\", calc_s)\n",
    "        else:\n",
    "            print(\"Incorrect secret\")"
   ]
  },
  {
   "cell_type": "code",
   "execution_count": 8,
   "metadata": {
    "vscode": {
     "languageId": "python"
    }
   },
   "outputs": [
    {
     "name": "stdout",
     "output_type": "stream",
     "text": [
      "Correct secret!\n",
      "\n",
      "Generated secret: \t 2793164573058065778243707726310993651057328193979934512335711902324678887118662259676401530240582513197263015327847410473007475487291011094528995766240917\n",
      "Calculated secret: \t 2793164573058065778243707726310993651057328193979934512335711902324678887118662259676401530240582513197263015327847410473007475487291011094528995766240917\n"
     ]
    }
   ],
   "source": [
    "bits = 512\n",
    "p = random_prime(2^bits, lbound=2^(bits-1))\n",
    "# print('p = ' + str(p))\n",
    "\n",
    "hnp = HNP(p)\n",
    "hnp.reduction_matrix()\n",
    "hnp.compare()\n"
   ]
  }
 ],
 "metadata": {
  "kernelspec": {
   "display_name": "SageMath 10.2",
   "language": "sage",
   "name": "sagemath"
  },
  "language_info": {
   "codemirror_mode": {
    "name": "ipython",
    "version": 3
   },
   "file_extension": ".py",
   "mimetype": "text/x-python",
   "name": "sage",
   "nbconvert_exporter": "python",
   "pygments_lexer": "ipython3",
   "version": "3.11.7"
  }
 },
 "nbformat": 4,
 "nbformat_minor": 2
}
