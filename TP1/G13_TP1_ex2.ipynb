{
 "cells": [
  {
   "cell_type": "markdown",
   "metadata": {},
   "source": [
    "# **Estruturas criptográficas: TP1 problema 2**"
   ]
  },
  {
   "cell_type": "markdown",
   "metadata": {},
   "source": [
    "## Descrição do problema\n",
    "\n",
    "No problema 2, utilizando o \"package\" **Cryptography**, foi-nos pedida uma implementação de:\n",
    "\n",
    "1. Uma AEAD (**\"authenticated encryption with associated data\"**) com **“Tweakable Block Ciphers”**. A cifra por blocos primitiva, usada para gerar a “tweakable block cipher”, é o AES-256 ou o ChaCha20.\n",
    "    \n",
    "2. Um canal privado de informação assíncrona com acordo de chaves feito com **“X448 key exchange”** e **“Ed448 Signing&Verification”** para autenticação  dos agentes. Com uma fase de confirmação da chave acordada.\n",
    "\n",
    "## Implementação\n",
    "\n",
    "Relativamete à comunicação assíncrona, utillizamos a mesma abordagem do problema 1, com a excessao de que aqui a troca de chaves e posterior confirmação é feita na função emitter e sempre que queremos enviar uma mensagem, chamamos a funcao send_message.\n",
    "\n",
    "Em primerio lugar, começamos por implementar a **“Tweakable Block Ciphers”**, e para isso, optamos pela cifra por blocos primitiva **ChaCha20**. \n",
    "De modo a cifrar a mensagem em blocos, dividimos a mesma em blocos de 64 bytes (variável global \"tam_bloco\"), e no momento de cifrar um bloco com ChaCha20, utilizamos um tweak para modificar a chave (Operação XOR), que seria incrementado a cada bloco cifrado (função incrementar_tweak). De notar que o primeiro tweak (initial vector) é uma sequência de 16 bytes pseudo aleatória.\n",
    "Para cifrar o último bloco verificamos se a mensagem a ser cifrada tem o mesmo tamanho do bloco, caso a condição não se verificasse acrescentavamos uma sequência de zeros, de forma a preencher o resto do bloco (padding).\n",
    "\n",
    "Depois de obtermos o criptograma, juntamos-lhe os dados associados, que incluem o initial vector, numero de blocos do criptograma, o tamanho do padding e o nonce, esta informação será fulcral para que o recetor consiga decifrar a mensagem com sucesso.\n",
    "No final, assinamos a mensagem, acrescentamos a assinatura à mensagem e enviamos ao recetor.\n",
    "\n",
    "Relativamente à troca de chaves e assinatura, o recetor gera uma chave privada e uma chave pública X448, e envia a sua chave pública ao emissor. O emissor faz o mesmo processo, mas além de enviar a chave publica X448, envia tambem uma chave publica Ed448, de modo a que o recetor possa verificar a assinatura da mensagem feita com a chave privada ED448 do emissor.\n",
    "Após a troca de chaves ambos obtêm uma chave comum através da chave pública X448 recebida que posteriormente é derivada para obter uma chave partilhada com 32 bytes, para ser utilizada na cifra ChaCha20.\n",
    "\n",
    "Antes da troca de mensagem existe uma etapa de confirmação de chaves, em que o emissor envia uma assinatura da chave compartilhada, por sua vez o recetor verifica essa assinatura usando a sua chave compartilhada, comprovando que as chaves compartilhadas são efetivamente iguais.\n",
    "\n",
    "O recetor quando recebe a mensagem do emissor, lê os primeiros 114 bytes da mesma (tamanho da assinatura Ed448) e verifica a autenticidade e integridade dos dados, ou seja, se a verificação for bem sucedida o recetor poderá garantir que a mensagem foi enviada pelo emissor e que a mesma não foi alterada. De seguida é feita a verificação do nonce, onde o recetor guarda cada nonce recebido e verifica se o novo nonce ja foi repetido, para detetar se não houve quaisquer ataques por repetição e consequentemente avançará com o processo de decifragem."
   ]
  },
  {
   "cell_type": "code",
   "execution_count": 1,
   "metadata": {},
   "outputs": [],
   "source": [
    "import os\n",
    "from cryptography.hazmat.primitives.ciphers import Cipher, algorithms\n",
    "from cryptography.hazmat.primitives import hashes\n",
    "from cryptography.hazmat.backends import default_backend\n",
    "from cryptography.hazmat.primitives.asymmetric.x448 import X448PrivateKey, X448PublicKey\n",
    "from cryptography.hazmat.primitives.asymmetric.ed448 import Ed448PrivateKey, Ed448PublicKey\n",
    "from cryptography.exceptions import InvalidSignature \n",
    "from cryptography.hazmat.primitives.kdf.hkdf import HKDF\n",
    "import math\n",
    "import asyncio\n",
    "\n",
    "tam_bloco = 64\n",
    "\n",
    "# Recetor       \n",
    "async def handle_emitter_ex2(reader, writer):\n",
    "    \n",
    "    nonces = []\n",
    "    \n",
    "    #gerar chaves X448 \n",
    "    private_key = X448PrivateKey.generate()\n",
    "    public_key = private_key.public_key()\n",
    "    \n",
    "    \n",
    "    # Envia a publicKey\n",
    "    writer.write(public_key.public_bytes_raw())\n",
    "    await writer.drain()\n",
    "    \n",
    "    #Lê a public key X448 do emissor\n",
    "    public_key_emitter = await reader.readexactly(56)\n",
    "    public_key_emitter = X448PublicKey.from_public_bytes(public_key_emitter)\n",
    "    \n",
    "    #Lê a public key ED448 \n",
    "    verification_key = await reader.readexactly(57)\n",
    "    verification_key = Ed448PublicKey.from_public_bytes(verification_key)\n",
    "    \n",
    "    #obtem a chave compartilhada\n",
    "    shared_key = private_key.exchange(public_key_emitter)\n",
    "    \n",
    "    #deriva a chave para 32 bytes (ChaCha20)\n",
    "    key = HKDF(\n",
    "        algorithm=hashes.SHA256(),\n",
    "        length=32,\n",
    "        salt=None,\n",
    "        info=None,\n",
    "    ).derive(shared_key)\n",
    "    \n",
    "    \n",
    "    # Confirmação de chave acordada\n",
    "    message_signature = await reader.read(114)\n",
    "    \n",
    "    # Confirma a assinatura\n",
    "    try:\n",
    "        verification_key.verify(message_signature, key)\n",
    "    except InvalidSignature:\n",
    "        print(\"Signature Key Confirmation failed.\")\n",
    "        return\n",
    "    \n",
    "    while True:\n",
    "        # Lê a assinatura\n",
    "        signature = await reader.read(114)\n",
    "        \n",
    "        \n",
    "        # Lê o nonce\n",
    "        nonce = await reader.read(16)\n",
    "        \n",
    "        #Lê os dados associados\n",
    "        ad = await reader.readuntil(b'_ADEnd_') # lê até à flag\n",
    "        iv = ad[:32] # o inicial vector são os primeiros 16 bytes\n",
    "        \n",
    "        #retira a flag\n",
    "        associated_data = ad[32:].decode()[:-7]\n",
    "        \n",
    "        #separa os dados associados\n",
    "        num_blocos = int(associated_data.split('+')[1])\n",
    "        padding = int(associated_data.split('+')[2])\n",
    "        size = num_blocos * tam_bloco\n",
    "        \n",
    "        #Lê o criptograma\n",
    "        ciphertext = await reader.readexactly(size)\n",
    "            \n",
    "        #verifica a assinatura dos dados\n",
    "        try:\n",
    "            verification_key.verify(signature, nonce + ad + ciphertext)    \n",
    "        except InvalidSignature:\n",
    "            print(\"Invalid Singnature.\")\n",
    "            return\n",
    "        \n",
    "        # Verifica validade do nonce\n",
    "        if nonce not in nonces:\n",
    "            nonces.append(nonce)\n",
    "        else:\n",
    "            print(\"Message replayed.\")\n",
    "            return\n",
    "        \n",
    "        # inicia a string com o texto decifrado\n",
    "        decrypted_text = b\"\"\n",
    "\n",
    "        #inicia o tweak\n",
    "        tweak = iv\n",
    "\n",
    "        #decifra a mensagem bloco a bloco\n",
    "        for i in range(num_blocos):\n",
    "            # Xor entre chave e tweak\n",
    "            tweaked_key = bytes([a ^ b for a, b in zip(key, tweak)])\n",
    "\n",
    "            #remove o padding do último bloco\n",
    "            if i != num_blocos - 1:\n",
    "                cipher = Cipher(algorithms.ChaCha20(tweaked_key, nonce), mode=None, backend=default_backend())\n",
    "                decryptor = cipher.decryptor()\n",
    "                decrypted_text += decryptor.update(ciphertext[:tam_bloco]) + decryptor.finalize()\n",
    "\n",
    "                ciphertext = ciphertext[tam_bloco:]\n",
    "            \n",
    "            # Se for o último bloco, retira o padding\n",
    "            else:\n",
    "                cipher = Cipher(algorithms.ChaCha20(tweaked_key, nonce), mode=None, backend=default_backend())\n",
    "                decryptor = cipher.decryptor()\n",
    "                decrypted_text += decryptor.update(ciphertext[:tam_bloco - padding]) + decryptor.finalize()\n",
    "\n",
    "            #incrementa o tweak\n",
    "            tweak = incrementar_tweak(tweak) \n",
    "\n",
    "\n",
    "        print(decrypted_text.decode())\n",
    "\n",
    "        \n",
    "# Emissor\n",
    "async def send_message_ex2(reader, writer, key, ed_private_key, attack):\n",
    "    \n",
    "    message = input(\"Enter message: \").encode()\n",
    "    \n",
    "    # Divide a mensagem em blocos\n",
    "    blocos, pad = divide_em_blocos_com_padding(message, tam_bloco)    \n",
    "\n",
    "    # Gera um InitialVector aleatório\n",
    "    iv = os.urandom(32)\n",
    "    \n",
    "    # Gera um nonce aleatório\n",
    "    nonce = os.urandom(16)\n",
    "    \n",
    "    if attack != None and attack != \"ciphertext\":\n",
    "        nonce = attack\n",
    "\n",
    "    ciphertext = b\"\"\n",
    "\n",
    "    tweak = iv\n",
    "    for bloco in blocos:\n",
    "        # Xor entre chave e tweak\n",
    "        tweaked_key = bytes([a ^ b for a, b in zip(key, tweak)])\n",
    "        # Inicialização do objeto de cifra\n",
    "        cipher = Cipher(algorithms.ChaCha20(tweaked_key, nonce), mode=None, backend=default_backend())\n",
    "        # Cifragem\n",
    "        encryptor = cipher.encryptor()\n",
    "        ciphertext += encryptor.update(bloco) + encryptor.finalize()\n",
    "        # Incremento do tweak\n",
    "        tweak = incrementar_tweak(tweak)\n",
    "\n",
    "    # Cria dados associados (iv + num_blocos + padding)\n",
    "    associated_data = iv + b'+' + str(len(blocos)).encode() + b'+' + str(pad).encode()\n",
    "\n",
    "    # Junta o nonce e os dados associados com o criptograma\n",
    "    ciphertext = nonce + associated_data + b'_ADEnd_' + ciphertext\n",
    "\n",
    "    # Assina a mensagem\n",
    "    siganture = ed_private_key.sign(ciphertext)\n",
    "\n",
    "    ciphertext = siganture + ciphertext\n",
    "    \n",
    "    if attack == \"ciphertext\": \n",
    "        ciphertext = ciphertext[:-3] + b'\\x00\\x00\\x00'\n",
    "\n",
    "    # Envia a mensagem para o receiver\n",
    "    writer.write(ciphertext)\n",
    "    \n",
    "    \n",
    "    return nonce\n",
    "\n",
    "    \n",
    "\n",
    "def divide_em_blocos_com_padding(mensagem, tamanho_bloco):\n",
    "    bytes_adicionais = 0\n",
    "    numero_blocos = math.ceil(len(mensagem) / tamanho_bloco)\n",
    "    blocos = []\n",
    "    for i in range(numero_blocos):\n",
    "        inicio = i * tamanho_bloco\n",
    "        fim = (i + 1) * tamanho_bloco\n",
    "        bloco = mensagem[inicio: fim]\n",
    "        if len(bloco) < tamanho_bloco:  # Adicionar padding com zeros\n",
    "            bytes_adicionais = tamanho_bloco - len(bloco)\n",
    "            bloco += b'\\x00' * bytes_adicionais\n",
    "        blocos.append(bloco)\n",
    "    return blocos, bytes_adicionais\n",
    "\n",
    "def incrementar_tweak(tweak):\n",
    "    # Bytes para inteiro\n",
    "    valor = int.from_bytes(tweak, byteorder='big')\n",
    "    \n",
    "    # Incrementar o valor do tweak\n",
    "    novo_valor = valor + 1\n",
    "    \n",
    "    # Inteiro para bytes\n",
    "    novo_tweak = novo_valor.to_bytes(32, byteorder='big')\n",
    "    \n",
    "    return novo_tweak\n",
    "\n",
    "#receiver\n",
    "async def receiver_ex2():\n",
    "    server = await asyncio.start_server(lambda reader, writer: handle_emitter_ex2(reader, writer), '127.0.0.1', 8888)\n",
    "\n",
    "    print(\"Receiver ready...\\n\")\n",
    "\n",
    "    async with server:\n",
    "        await server.serve_forever()\n",
    "        \n",
    "#emitter\n",
    "async def emitter_ex2():\n",
    "        \n",
    "    reader, writer = await asyncio.open_connection('127.0.0.1', 8888)\n",
    "    \n",
    "    # Gera as chaves Ed448\n",
    "    ed_private_key = Ed448PrivateKey.generate()\n",
    "    verification_key = ed_private_key.public_key()\n",
    "    \n",
    "    \n",
    "    # Lê a chave pública X448\n",
    "    public_key_receiver = await reader.readexactly(56)\n",
    "    public_key_receiver = X448PublicKey.from_public_bytes(public_key_receiver)\n",
    "\n",
    "    # Gera as chaves X448\n",
    "    private_key = X448PrivateKey.generate()\n",
    "    public_key = private_key.public_key()\n",
    "       \n",
    "    # Envia a chave pública X448 e a chave pública Ed448\n",
    "    writer.write(public_key.public_bytes_raw() + verification_key.public_bytes_raw())\n",
    "    await writer.drain()\n",
    "\n",
    "    # Obtem a chave partilhada\n",
    "    shared_key = private_key.exchange(public_key_receiver)\n",
    "    \n",
    "    # Derivacao da chave\n",
    "    key = HKDF(\n",
    "        algorithm=hashes.SHA256(),\n",
    "        length=32,\n",
    "        salt=None,\n",
    "        info=None,\n",
    "    ).derive(shared_key)\n",
    "    \n",
    "    # Confirmação da chave acordada\n",
    "    # Envia uma assinatura da chave\n",
    "    siganture = ed_private_key.sign(key)\n",
    "    writer.write(siganture)\n",
    "    await writer.drain()\n",
    "    \n",
    "    return reader, writer, key, ed_private_key\n",
    " "
   ]
  },
  {
   "cell_type": "markdown",
   "metadata": {},
   "source": [
    "# Testes\n",
    "\n",
    "Iniciar o receiver"
   ]
  },
  {
   "cell_type": "code",
   "execution_count": 2,
   "metadata": {},
   "outputs": [
    {
     "data": {
      "text/plain": [
       "<Task pending name='Task-5' coro=<receiver_ex2() running at C:\\Users\\Utilizador\\AppData\\Local\\Temp\\ipykernel_16408\\1698952022.py:207>>"
      ]
     },
     "execution_count": 2,
     "metadata": {},
     "output_type": "execute_result"
    },
    {
     "name": "stdout",
     "output_type": "stream",
     "text": [
      "Receiver ready...\n",
      "\n"
     ]
    }
   ],
   "source": [
    "asyncio.create_task(receiver_ex2())"
   ]
  },
  {
   "cell_type": "markdown",
   "metadata": {},
   "source": [
    "Iniciar o Emitter (establecer conexao)\n",
    "\n",
    "Mensagem: In recent years, the use of deep learning in image super-resolution has become the mainstream. The results achieved by deep learning models have surpassed traditional methods, offering enhanced image resolution across various applications."
   ]
  },
  {
   "cell_type": "code",
   "execution_count": 4,
   "metadata": {},
   "outputs": [],
   "source": [
    "#Create emitter\n",
    "#In recent years, the use of deep learning in image super-resolution has become the mainstream. The results achieved by deep learning models have surpassed traditional methods, offering enhanced image resolution across various applications.\n",
    "reader, writer, key, ed_private_key = await emitter_ex2()"
   ]
  },
  {
   "cell_type": "markdown",
   "metadata": {},
   "source": [
    "Caso certo"
   ]
  },
  {
   "cell_type": "code",
   "execution_count": 5,
   "metadata": {},
   "outputs": [
    {
     "name": "stdout",
     "output_type": "stream",
     "text": [
      "In recent years, the use of deep learning in image super-resolution has become the mainstream. The results achieved by deep learning models have surpassed traditional methods, offering enhanced image resolution across various applications.\n"
     ]
    }
   ],
   "source": [
    "n = await send_message_ex2(reader, writer, key, ed_private_key, attack = None)"
   ]
  },
  {
   "cell_type": "markdown",
   "metadata": {},
   "source": [
    "Ataque por repetição (nounce repetido)\n",
    "\n",
    "passamos o nounce da mensagem anterior no campo 'attack'"
   ]
  },
  {
   "cell_type": "code",
   "execution_count": 5,
   "metadata": {},
   "outputs": [
    {
     "name": "stdout",
     "output_type": "stream",
     "text": [
      "Message replayed.\n"
     ]
    }
   ],
   "source": [
    "n = await send_message_ex2(reader, writer, key, ed_private_key, attack = n)"
   ]
  },
  {
   "cell_type": "markdown",
   "metadata": {},
   "source": [
    "Ataque ao criptograma\n",
    "\n",
    "Modifica bytes do criptograma"
   ]
  },
  {
   "cell_type": "code",
   "execution_count": 6,
   "metadata": {},
   "outputs": [
    {
     "name": "stdout",
     "output_type": "stream",
     "text": [
      "Invalid Singnature.\n"
     ]
    }
   ],
   "source": [
    "n = await send_message_ex2(reader, writer, key, ed_private_key, attack = \"ciphertext\")"
   ]
  }
 ],
 "metadata": {
  "kernelspec": {
   "display_name": "Python 3 (ipykernel)",
   "language": "python",
   "name": "python3"
  },
  "language_info": {
   "codemirror_mode": {
    "name": "ipython",
    "version": 3
   },
   "file_extension": ".py",
   "mimetype": "text/x-python",
   "name": "python",
   "nbconvert_exporter": "python",
   "pygments_lexer": "ipython3",
   "version": "3.9.18"
  }
 },
 "nbformat": 4,
 "nbformat_minor": 2
}
