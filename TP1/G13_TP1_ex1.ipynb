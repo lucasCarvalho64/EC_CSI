{
 "cells": [
  {
   "cell_type": "markdown",
   "metadata": {},
   "source": [
    "# **Estruturas criptograficas: TP1 problema 1**"
   ]
  },
  {
   "cell_type": "markdown",
   "metadata": {},
   "source": [
    "## Descrição do problema\n",
    "\n",
    "1. Neste problema foi nos proposto o uso do package Cryptography e do package ascon para criar uma comunicação privada assíncrona em modo “Lightweight Cryptography” entre um agente Emitter e um agente Receiver que cubra os seguintes aspectos:\n",
    "\n",
    "    1. Autenticação do criptograma e dos metadados (associated data) usando Ascon em modo de cifra.\n",
    "    2. As chaves de cifra, autenticação e os “nounces” são gerados por um gerador pseudo aleatório (PRG) usando o Ascon em modo XOF. As diferentes chaves para inicialização do PRG são inputs do emissor e do receptor.\n",
    "    3. Para implementar a comunicação cliente-servidor use o package python `asyncio`.\n",
    "\n",
    "# Implementação\n",
    "\n",
    "    Cliente/Servidor\n",
    "\n",
    "A abordagem utilizada começou por criar a conexão assíncrona entre cliente(Emitter) e servidor(Receiver) com o package asyncio.\n",
    "\n",
    "Quando criamos um receiver é iniciado o servidor em background que chama a função handle_emitter() assim que for iniciada uma conexão.\n",
    "\n",
    "Quando iniciamos um emitter é criada uma ligação ao servidor e podemos enviar as mensagens que quisermos.\n",
    "\n",
    "\n",
    "    send_message()\n",
    "\n",
    "Recebe como input os inicializadores do nonce e da chave\n",
    "\n",
    "Depois de escrevermos a mensagem:\n",
    "\n",
    "1. São criados os dados associados (comprimento da mensagem)\n",
    "\n",
    "2. Geradas a chave e o nounce com os inicializadores passados como argumento usando Ascon em modo XOF\n",
    "\n",
    "3. Cifrado o texto usando Ascon em modo cifra com a devida chave, nonce e dados associados\n",
    "\n",
    "4. Anexados os dados associados ao texto cifrado e enviada a mensagem\n",
    "\n",
    ".\n",
    "\n",
    "\n",
    "    handle_emitter()\n",
    "\n",
    "Recebe como input os inicializadores do nonce e da chave\n",
    "\n",
    "Depois de escrevermos a mensagem:\n",
    "\n",
    "1. Lê os dados assiciados (tamanho da mensagem) com recurso a uma flag\n",
    "\n",
    "2. Lê a mensagem usando o tamanho obtido nos dados associados\n",
    "\n",
    "3. Geradas a chave e o nounce com os inicializadores passados como argumento usando Ascon em modo XOF\n",
    "\n",
    "4. Decifrado o texto usando Ascon em modo cifra com a devida chave, nonce e dados associados\n",
    "\n",
    "5. Verifica se a mensagem foi comprometida"
   ]
  },
  {
   "cell_type": "code",
   "execution_count": 1,
   "metadata": {},
   "outputs": [],
   "source": [
    "import asyncio\n",
    "import ascon\n",
    "\n",
    "async def handle_emitter(key_init_receiver, nonce_init_receiver, reader, writer):\n",
    "    \n",
    "    while True:\n",
    "\n",
    "        # Lê os dados associados\n",
    "        try:\n",
    "            associateddata = await reader.readuntil(b'_ADEnd_')\n",
    "        except:\n",
    "            break\n",
    "        \n",
    "        size = int(associateddata.decode()[:-7])\n",
    "        \n",
    "        #Lê a mensagem\n",
    "        ciphertext = await reader.readexactly(size)\n",
    "        \n",
    "        #gerar chave e nonce\n",
    "        key = ascon.hash(key_init_receiver.encode(), variant=\"Ascon-Xof\", hashlength=16)\n",
    "        nonce = ascon.hash(nonce_init_receiver.encode(), variant=\"Ascon-Xof\", hashlength=16)\n",
    "\n",
    "        #decifrar a mensagem\n",
    "        plaintext = ascon.decrypt(key, nonce, associateddata, ciphertext, variant=\"Ascon-128\")\n",
    "        \n",
    "        #verifica se a mensagem foi comprometida\n",
    "        if plaintext is None:\n",
    "            print(\"Autentication failed. Message compromised.\")\n",
    "\n",
    "        else:\n",
    "            print(f\"Message: {plaintext.decode()}\")\n",
    "            \n",
    "            #incrementa o nonce\n",
    "            nonce_init_receiver = str(int(nonce_init_receiver) + 1)\n",
    "    \n",
    "#criar receiver\n",
    "async def receiver(key_init_receiver, nonce_init_receiver):\n",
    "    server = await asyncio.start_server(\n",
    "        lambda reader, writer: handle_emitter(\n",
    "            key_init_receiver, nonce_init_receiver, reader, writer), '127.0.0.1', 7777)\n",
    "\n",
    "    print(\"Receiver ready...\\n\")\n",
    "\n",
    "    async with server:\n",
    "        await server.serve_forever()\n",
    "\n",
    "\n",
    "#Enviar mensagem\n",
    "async def send_message( key_init_emitter, nonce_init_emitter, reader, writer):\n",
    "\n",
    "    #input da mensagem\n",
    "    plaintext = input(\"Enter message: \").encode()\n",
    "\n",
    "    #se nao mandou mais mensagens fecha a conexão\n",
    "    if not plaintext:\n",
    "        return 0\n",
    "    \n",
    "    #dados associados = comprimento do plaintext\n",
    "    associateddata = (str(len(plaintext)+16) + '_ADEnd_').encode()\n",
    "\n",
    "    #gerar chave e nonce aliatócom Ascom em modeo XOF\n",
    "    key = ascon.hash(key_init_emitter.encode(), variant=\"Ascon-Xof\", hashlength=16)\n",
    "    nonce = ascon.hash(nonce_init_emitter.encode(), variant=\"Ascon-Xof\", hashlength=16)\n",
    "    \n",
    "    #cifrar texto\n",
    "    ciphertext = ascon.encrypt(\n",
    "        key, nonce, associateddata, plaintext, variant=\"Ascon-128\")\n",
    "    \n",
    "    #anexar dados associados\n",
    "    message = associateddata + ciphertext\n",
    "\n",
    "    # Envia a mensagem para o servidor\n",
    "    writer.write(message)\n",
    "    await writer.drain()\n",
    "\n",
    "    return 1\n",
    "    \n",
    "async def emitter(key_init_emitter, nonce_init_emitter):\n",
    "        \n",
    "        reader, writer = await asyncio.open_connection('127.0.0.1', 7777)\n",
    "        \n",
    "        while True: \n",
    "\n",
    "            # Envia a mensagem\n",
    "            result = await send_message( key_init_emitter, nonce_init_emitter, reader, writer)\n",
    "            nonce_init_emitter = str(int(nonce_init_emitter) + 1)\n",
    "            \n",
    "            if result == 0:\n",
    "                break\n",
    "            \n",
    "        return reader, writer\n",
    " "
   ]
  },
  {
   "cell_type": "markdown",
   "metadata": {},
   "source": [
    "Cria o receiver"
   ]
  },
  {
   "cell_type": "code",
   "execution_count": 2,
   "metadata": {},
   "outputs": [
    {
     "data": {
      "text/plain": [
       "<Task pending name='Task-5' coro=<receiver() running at C:\\Users\\Utilizador\\AppData\\Local\\Temp\\ipykernel_24248\\977531213.py:37>>"
      ]
     },
     "execution_count": 2,
     "metadata": {},
     "output_type": "execute_result"
    },
    {
     "name": "stdout",
     "output_type": "stream",
     "text": [
      "Receiver ready...\n",
      "\n"
     ]
    }
   ],
   "source": [
    "# criar o Receiver\n",
    "\n",
    "key_init_receive = \"27082001\" #chave\n",
    "nonce_init_receive = \"12071972\" #nonce\n",
    "\n",
    "asyncio.create_task(receiver(key_init_receive, nonce_init_receive))  # Inicia o servidor"
   ]
  },
  {
   "cell_type": "markdown",
   "metadata": {},
   "source": [
    "Caso certo"
   ]
  },
  {
   "cell_type": "code",
   "execution_count": 3,
   "metadata": {},
   "outputs": [
    {
     "name": "stdout",
     "output_type": "stream",
     "text": [
      "Message: Ola, como estas?\n",
      "Message: teste oaldjk jdjshdhfnsn sjdjfuuej jsjdfkk sjfiksefmsifs n snfsif s teste\n"
     ]
    }
   ],
   "source": [
    "#Emitter, caso certo\n",
    "\n",
    "key_init_emitter = \"27082001\"\n",
    "nonce_init_emitter = \"12071972\"\n",
    "\n",
    "reader, writer = await emitter(key_init_emitter, nonce_init_emitter)"
   ]
  },
  {
   "cell_type": "markdown",
   "metadata": {},
   "source": [
    "Key errada"
   ]
  },
  {
   "cell_type": "code",
   "execution_count": 4,
   "metadata": {},
   "outputs": [
    {
     "name": "stdout",
     "output_type": "stream",
     "text": [
      "Autentication failed. Message compromised.\n"
     ]
    }
   ],
   "source": [
    "#Emitter, key errada\n",
    "\n",
    "key_init_emitter = \"27082001\"\n",
    "nonce_init_emitter = \"12071973\"\n",
    "\n",
    "# Envia a mensagem\n",
    "reader, writer = await emitter(key_init_emitter, nonce_init_emitter)\n"
   ]
  },
  {
   "cell_type": "markdown",
   "metadata": {},
   "source": [
    "Nonce errado"
   ]
  },
  {
   "cell_type": "code",
   "execution_count": 5,
   "metadata": {},
   "outputs": [
    {
     "name": "stdout",
     "output_type": "stream",
     "text": [
      "Autentication failed. Message compromised.\n"
     ]
    }
   ],
   "source": [
    "#Emitter, nonce errado\n",
    "\n",
    "key_init_emitter = \"270801\"\n",
    "nonce_init_emitter = \"12071973\"\n",
    "\n",
    "# Envia a mensagem\n",
    "reader, writer = await emitter(key_init_emitter, nonce_init_emitter)\n"
   ]
  }
 ],
 "metadata": {
  "kernelspec": {
   "display_name": "Python 3 (ipykernel)",
   "language": "python",
   "name": "python3"
  },
  "language_info": {
   "codemirror_mode": {
    "name": "ipython",
    "version": 3
   },
   "file_extension": ".py",
   "mimetype": "text/x-python",
   "name": "python",
   "nbconvert_exporter": "python",
   "pygments_lexer": "ipython3",
   "version": "3.9.18"
  }
 },
 "nbformat": 4,
 "nbformat_minor": 2
}
