{
 "cells": [
  {
   "cell_type": "code",
   "execution_count": 1,
   "metadata": {},
   "outputs": [],
   "source": [
    "import asyncio\n",
    "import ascon\n",
    "\n",
    "async def handle_emitter(key_init_receiver, nonce_init_receiver, reader, writer):\n",
    "        \n",
    "    # Lê os dados associados\n",
    "    associateddata = await reader.readuntil(b'_')\n",
    "    size = int(associateddata.decode()[:-1])\n",
    "    \n",
    "    #Lê a mensagem\n",
    "    ciphertext = await reader.readexactly(size)\n",
    "    \n",
    "    #gerar chave e nonce\n",
    "    key = ascon.hash(key_init_receiver.encode(), variant=\"Ascon-Xof\", hashlength=16)\n",
    "    nonce = ascon.hash(nonce_init_receiver.encode(), variant=\"Ascon-Xof\", hashlength=16)\n",
    "    \n",
    "    #decifrar a mensagem\n",
    "    plaintext = ascon.decrypt(key, nonce, associateddata, ciphertext, variant=\"Ascon-128\")\n",
    "    \n",
    "    if plaintext is None:\n",
    "        print(\"Autentication failed. Message compromised.\")\n",
    "        writer.close()\n",
    "    else:\n",
    "        print(f\"Message: {plaintext.decode()}\")\n",
    "        writer.close()\n",
    "    \n",
    "#receiver\n",
    "async def receiver(key_init_receiver, nonce_init_receiver):\n",
    "    server = await asyncio.start_server(\n",
    "        lambda reader, writer: handle_emitter(\n",
    "            key_init_receiver, nonce_init_receiver, reader, writer), '127.0.0.1', 8888)\n",
    "\n",
    "    print(\"Receiver ready...\\n\")\n",
    "\n",
    "    async with server:\n",
    "        await server.serve_forever()\n",
    "\n",
    "\n",
    "#Emitter\n",
    "async def send_message( key_init_emitter, nonce_init_emitter):\n",
    "    \n",
    "    #establecer concexão\n",
    "    reader, writer = await asyncio.open_connection('127.0.0.1', 8888)\n",
    "\n",
    "    plaintext = input(\"Enter message: \").encode()\n",
    "    #associateddata = input(\"Enter associated data: \")\n",
    "    \n",
    "    #dados associados = comprimento do text\n",
    "    associateddata = (str(len(plaintext)+16) + '_').encode()\n",
    "\n",
    "    #gerar chaves aliatórias\n",
    "    key = ascon.hash(key_init_emitter.encode(), variant=\"Ascon-Xof\", hashlength=16)\n",
    "    nonce = ascon.hash(nonce_init_emitter.encode(), variant=\"Ascon-Xof\", hashlength=16)\n",
    "    \n",
    "    #cifrar texto\n",
    "    ciphertext = ascon.encrypt(\n",
    "        key, nonce, associateddata, plaintext, variant=\"Ascon-128\")\n",
    "    \n",
    "    #anexar dados associados\n",
    "    message = associateddata + ciphertext\n",
    "\n",
    "    # Envia a mensagem para o servidor\n",
    "    writer.write(message)\n",
    "    await writer.drain()\n",
    "\n",
    "    # Fecha a conexão\n",
    "    writer.close()\n",
    "    await writer.wait_closed()\n",
    "    \n"
   ]
  },
  {
   "cell_type": "code",
   "execution_count": 2,
   "metadata": {},
   "outputs": [
    {
     "data": {
      "text/plain": [
       "<Task pending name='Task-5' coro=<receiver() running at /tmp/ipykernel_20858/4097190614.py:28>>"
      ]
     },
     "execution_count": 2,
     "metadata": {},
     "output_type": "execute_result"
    },
    {
     "name": "stdout",
     "output_type": "stream",
     "text": [
      "Receiver ready...\n",
      "\n"
     ]
    }
   ],
   "source": [
    "#Receiver\n",
    "key_init_receive = \"27082001\"\n",
    "nonce_init_receive = \"12071972\"\n",
    "\n",
    "asyncio.create_task(receiver(key_init_receive, nonce_init_receive))  # Inicia o servidor"
   ]
  },
  {
   "cell_type": "code",
   "execution_count": 3,
   "metadata": {},
   "outputs": [
    {
     "name": "stdout",
     "output_type": "stream",
     "text": [
      "Message: olaaaaaa\n"
     ]
    }
   ],
   "source": [
    "#Emitter, caso certo\n",
    "\n",
    "key_init_emitter = \"27082001\"\n",
    "nonce_init_emitter = \"12071972\"\n",
    "\n",
    "async def emitter():\n",
    "        \n",
    "    await send_message\n",
    "\n",
    "# Envia a mensagem\n",
    "await send_message( key_init_emitter, nonce_init_emitter)\n"
   ]
  },
  {
   "cell_type": "code",
   "execution_count": 4,
   "metadata": {},
   "outputs": [
    {
     "name": "stdout",
     "output_type": "stream",
     "text": [
      "Autentication failed. Message compromised.\n"
     ]
    }
   ],
   "source": [
    "#Emitter, key errada\n",
    "\n",
    "key_init_emitter = \"27082002\"\n",
    "nonce_init_emitter = \"12071972\"\n",
    "\n",
    "# Envia a mensagem\n",
    "await send_message(key_init_emitter, nonce_init_emitter) \n"
   ]
  },
  {
   "cell_type": "code",
   "execution_count": 5,
   "metadata": {},
   "outputs": [
    {
     "name": "stdout",
     "output_type": "stream",
     "text": [
      "Autentication failed. Message compromised.\n"
     ]
    }
   ],
   "source": [
    "#Emitter, nonce errado\n",
    "\n",
    "key_init_emitter = \"270801\"\n",
    "nonce_init_emitter = \"12071973\"\n",
    "\n",
    "# Envia a mensagem\n",
    "await send_message(key_init_emitter, nonce_init_emitter) \n"
   ]
  },
  {
   "cell_type": "markdown",
   "metadata": {},
   "source": [
    "# EX2"
   ]
  },
  {
   "cell_type": "markdown",
   "metadata": {},
   "source": [
    "O modo de uma cifra por blocos contém pelo menos 3 fases\n",
    "\n",
    "    - A preparação da mensagem num conjunto de blocos do mesmo tamanho (inclui o padding) e a geração das chaves, IV’s,  nounces ou tweaks que sejam necessários ao processamento.\n",
    "    - O processamento individual dos blocos com a informação fornecida pela 1ª fase.\n",
    "    - A re-combinação dos criptogramas individuais dos vários blocos, construindo o criptograma final da mensagem."
   ]
  },
  {
   "cell_type": "code",
   "execution_count": 10,
   "metadata": {},
   "outputs": [],
   "source": [
    "import sys\n",
    "import struct, os\n",
    "from cryptography.hazmat.primitives.ciphers import Cipher, algorithms\n",
    "from cryptography.hazmat.primitives import hashes\n",
    "from cryptography.hazmat.backends import default_backend\n",
    "import math\n",
    "import asyncio\n",
    "\n",
    "key = os.urandom(32)\n",
    "iv = os.urandom(16)\n",
    "\n",
    "\n",
    "#receiver\n",
    "async def receiver_ex2():\n",
    "    server = await asyncio.start_server(\n",
    "        lambda reader, writer: handle_emitter_ex2(reader, writer), '127.0.0.1', 8888)\n",
    "\n",
    "    print(\"Receiver ready...\\n\")\n",
    "\n",
    "    async with server:\n",
    "        await server.serve_forever()\n",
    "        \n",
    "        \n",
    "async def handle_emitter_ex2(reader, writer):\n",
    "        \n",
    "    # Lê a tag\n",
    "    tag = await reader.readexactly(32)\n",
    "    \n",
    "    #Lê os dados associados\n",
    "    ad = await reader.readuntil(b'_')\n",
    "    associated_data = ad.decode()[:-1]\n",
    "    \n",
    "    num_blocos = int(associated_data.split('+')[0])\n",
    "    padding = int(associated_data.split('+')[1])\n",
    "    size = num_blocos * 64\n",
    "    \n",
    "    #Lê o criptograma\n",
    "    ciphertext = await reader.readexactly(size)\n",
    "    \n",
    "    # Cálculo do hash da mensagem\n",
    "    hasher = hashes.Hash(hashes.SHA256(), backend=default_backend())\n",
    "    hasher.update(ad + ciphertext)\n",
    "    hash_result = hasher.finalize()\n",
    "    \n",
    "    if (hash_result != tag):\n",
    "        print(\"Autentication failed. Message compromised.\")\n",
    "        writer.close()\n",
    "        await writer.wait_closed()\n",
    "        return\n",
    "\n",
    "    decrypted_text = b\"\"\n",
    "\n",
    "\n",
    "    tweak = iv\n",
    "    for i in range(num_blocos):\n",
    "    # Decifragem\n",
    "\n",
    "        if i != 1:\n",
    "            cipher = Cipher(algorithms.ChaCha20(key, tweak), mode=None, backend=default_backend())\n",
    "            decryptor = cipher.decryptor()\n",
    "            decrypted_text += decryptor.update(x[:64]) + decryptor.finalize()\n",
    "\n",
    "            x = x[64:]\n",
    "        else:\n",
    "            cipher = Cipher(algorithms.ChaCha20(key, tweak), mode=None, backend=default_backend())\n",
    "            decryptor = cipher.decryptor()\n",
    "            decrypted_text += decryptor.update(x[:64 - padding]) + decryptor.finalize()\n",
    "\n",
    "        tweak = incrementar_tweak(tweak)\n",
    "\n",
    "\n",
    "    print(decrypted_text)\n",
    "\n",
    "    if plaintext is None:\n",
    "        print(\"Autentication failed. Message compromised.\")\n",
    "        writer.close()\n",
    "    else:\n",
    "        print(f\"Message: {plaintext.decode()}\")\n",
    "        writer.close()\n",
    "        \n",
    "#Emitter\n",
    "async def send_message_ex2():\n",
    "    \n",
    "    #establecer concexão\n",
    "    reader, writer = await asyncio.open_connection('127.0.0.1', 8888)\n",
    "\n",
    "    message = input(\"Enter message: \").encode()\n",
    "    \n",
    "    blocos, pad = divide_em_blocos_com_padding(message, 64)    \n",
    "\n",
    "    #key = os.urandom(32)\n",
    "    #iv = os.urandom(16)\n",
    "\n",
    "    ciphertext = b\"\"\n",
    "\n",
    "    tweak = iv\n",
    "    for bloco in blocos:\n",
    "\n",
    "        # Inicialização do objeto de cifra\n",
    "        cipher = Cipher(algorithms.ChaCha20(key, tweak), mode=None, backend=default_backend())\n",
    "        # Cifragem\n",
    "        encryptor = cipher.encryptor()\n",
    "        ciphertext += encryptor.update(bloco) + encryptor.finalize()\n",
    "\n",
    "        tweak = incrementar_tweak(tweak)\n",
    "\n",
    "    associated_data = str(len(blocos)).encode() + b'+' + str(pad).encode()\n",
    "    x = ciphertext\n",
    "    ciphertext = associated_data + b'_' + ciphertext\n",
    "\n",
    "    # Cálculo do hash da mensagem\n",
    "    hasher = hashes.Hash(hashes.SHA256(), backend=default_backend())\n",
    "    hasher.update(ciphertext)\n",
    "    hash_result = hasher.finalize()\n",
    "\n",
    "    ciphertext = hash_result + ciphertext\n",
    "    \n",
    "\n",
    "    # Envia a mensagem para o servidor\n",
    "    writer.write(ciphertext)\n",
    "    await writer.drain()\n",
    "\n",
    "    # Fecha a conexão\n",
    "    writer.close()\n",
    "    await writer.wait_closed()\n",
    "    \n",
    "\n",
    "def divide_em_blocos_com_padding(mensagem, tamanho_bloco):\n",
    "    bytes_adicionais = 0\n",
    "    numero_blocos = math.ceil(len(mensagem) / tamanho_bloco)\n",
    "    blocos = []\n",
    "    for i in range(numero_blocos):\n",
    "        inicio = i * tamanho_bloco\n",
    "        fim = (i + 1) * tamanho_bloco\n",
    "        bloco = mensagem[inicio: fim]\n",
    "        if len(bloco) < tamanho_bloco:  # Adicionar padding com zeros\n",
    "            bytes_adicionais = tamanho_bloco - len(bloco)\n",
    "            bloco += b'\\x00' * bytes_adicionais\n",
    "        blocos.append(bloco)\n",
    "    return blocos, bytes_adicionais\n",
    "\n",
    "def incrementar_tweak(tweak):\n",
    "    # Decodificar o tweak como um número inteiro de 128 bits (16 bytes)\n",
    "    valor = int.from_bytes(tweak, byteorder='big')\n",
    "    \n",
    "    # Incrementar o valor do tweak\n",
    "    novo_valor = valor + 1\n",
    "    \n",
    "    # Codificar o novo valor de volta para um tweak de 16 bytes\n",
    "    novo_tweak = novo_valor.to_bytes(16, byteorder='big')\n",
    "    \n",
    "    return novo_tweak\n"
   ]
  },
  {
   "cell_type": "code",
   "execution_count": 11,
   "metadata": {},
   "outputs": [
    {
     "ename": "TypeError",
     "evalue": "receiver_ex2() missing 2 required positional arguments: 'key_init_receiver' and 'nonce_init_receiver'",
     "output_type": "error",
     "traceback": [
      "\u001b[0;31m---------------------------------------------------------------------------\u001b[0m",
      "\u001b[0;31mTypeError\u001b[0m                                 Traceback (most recent call last)",
      "Cell \u001b[0;32mIn[11], line 1\u001b[0m\n\u001b[0;32m----> 1\u001b[0m asyncio\u001b[38;5;241m.\u001b[39mcreate_task(receiver_ex2())\n",
      "\u001b[0;31mTypeError\u001b[0m: receiver_ex2() missing 2 required positional arguments: 'key_init_receiver' and 'nonce_init_receiver'"
     ]
    }
   ],
   "source": [
    "asyncio.create_task(receiver_ex2())"
   ]
  },
  {
   "cell_type": "code",
   "execution_count": null,
   "metadata": {},
   "outputs": [],
   "source": [
    "async def emitter():\n",
    "        \n",
    "    await send_message\n",
    "\n",
    "# Envia a mensagem\n",
    "await send_message_ex2()"
   ]
  }
 ],
 "metadata": {
  "kernelspec": {
   "display_name": "Python 3 (ipykernel)",
   "language": "python",
   "name": "python3"
  },
  "language_info": {
   "codemirror_mode": {
    "name": "ipython",
    "version": 3
   },
   "file_extension": ".py",
   "mimetype": "text/x-python",
   "name": "python",
   "nbconvert_exporter": "python",
   "pygments_lexer": "ipython3",
   "version": "3.11.7"
  }
 },
 "nbformat": 4,
 "nbformat_minor": 2
}
