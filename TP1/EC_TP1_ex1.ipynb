{
 "cells": [
  {
   "cell_type": "markdown",
   "metadata": {},
   "source": [
    "# Estruturas criptograficas: TP1 problema 1"
   ]
  },
  {
   "cell_type": "markdown",
   "metadata": {},
   "source": [
    "1. Neste problema foi nos proposto o uso do package Cryptography e do package ascon para criar uma comunicação privada assíncrona em modo “Lightweight Cryptography” entre um agente Emitter e um agente Receiver que cubra os seguintes aspectos:\n",
    "\n",
    "    1. Autenticação do criptograma e dos metadados (associated data) usando Ascon em modo de cifra.\n",
    "    2. As chaves de cifra, autenticação e os “nounces” são gerados por um gerador pseudo aleatório (PRG) usando o Ascon em modo XOF. As diferentes chaves para inicialização do PRG são inputs do emissor e do receptor.\n",
    "    3. Para implementar a comunicação cliente-servidor use o package python `asyncio`."
   ]
  },
  {
   "cell_type": "markdown",
   "metadata": {},
   "source": [
    "A abordagem"
   ]
  },
  {
   "cell_type": "code",
   "execution_count": 1,
   "metadata": {},
   "outputs": [],
   "source": [
    "import asyncio\n",
    "import ascon\n",
    "\n",
    "async def handle_emitter(key_init_receiver, nonce_init_receiver, reader, writer):\n",
    "    \n",
    "    while True:\n",
    "        # Lê os dados associados\n",
    "        associateddata = await reader.readuntil(b'_ADEnd_')\n",
    "        size = int(associateddata.decode()[:-7])\n",
    "        \n",
    "        #Lê a mensagem\n",
    "        ciphertext = await reader.readexactly(size)\n",
    "        \n",
    "        #gerar chave e nonce\n",
    "        key = ascon.hash(key_init_receiver.encode(), variant=\"Ascon-Xof\", hashlength=16)\n",
    "        nonce = ascon.hash(nonce_init_receiver.encode(), variant=\"Ascon-Xof\", hashlength=16)\n",
    "\n",
    "        #decifrar a mensagem\n",
    "        plaintext = ascon.decrypt(key, nonce, associateddata, ciphertext, variant=\"Ascon-128\")\n",
    "        \n",
    "        if plaintext is None:\n",
    "            print(\"Autentication failed. Message compromised.\")\n",
    "            # writer.close()\n",
    "        else:\n",
    "            print(f\"Message: {plaintext.decode()}\")\n",
    "            nonce_init_receiver = str(int(nonce_init_receiver) + 1)\n",
    "            # writer.close()\n",
    "    \n",
    "#receiver\n",
    "async def receiver(key_init_receiver, nonce_init_receiver):\n",
    "    server = await asyncio.start_server(\n",
    "        lambda reader, writer: handle_emitter(\n",
    "            key_init_receiver, nonce_init_receiver, reader, writer), '127.0.0.1', 7777)\n",
    "\n",
    "    print(\"Receiver ready...\\n\")\n",
    "\n",
    "    async with server:\n",
    "        await server.serve_forever()\n",
    "\n",
    "\n",
    "#Emitter\n",
    "async def send_message( key_init_emitter, nonce_init_emitter, reader, writer):\n",
    "    \n",
    "    #establecer concexão\n",
    "    # reader, writer = await asyncio.open_connection('127.0.0.1', 7777)\n",
    "\n",
    "    plaintext = input(\"Enter message: \").encode()\n",
    "    #associateddata = input(\"Enter associated data: \")\n",
    "    \n",
    "    #dados associados = comprimento do text\n",
    "    associateddata = (str(len(plaintext)+16) + '_ADEnd_').encode()\n",
    "\n",
    "    #gerar chaves aliatórias\n",
    "    key = ascon.hash(key_init_emitter.encode(), variant=\"Ascon-Xof\", hashlength=16)\n",
    "    nonce = ascon.hash(nonce_init_emitter.encode(), variant=\"Ascon-Xof\", hashlength=16)\n",
    "    \n",
    "    #cifrar texto\n",
    "    ciphertext = ascon.encrypt(\n",
    "        key, nonce, associateddata, plaintext, variant=\"Ascon-128\")\n",
    "    \n",
    "    #anexar dados associados\n",
    "    message = associateddata + ciphertext\n",
    "\n",
    "    # Envia a mensagem para o servidor\n",
    "    writer.write(message)\n",
    "    await writer.drain()\n",
    "\n",
    "    # Fecha a conexão\n",
    "    # writer.close()\n",
    "    # await writer.wait_closed()\n",
    "    \n",
    "async def emitter():\n",
    "        \n",
    "    reader, writer = await asyncio.open_connection('127.0.0.1', 7777)\n",
    "    return reader, writer\n",
    " "
   ]
  },
  {
   "cell_type": "code",
   "execution_count": 2,
   "metadata": {},
   "outputs": [
    {
     "data": {
      "text/plain": [
       "<Task pending name='Task-5' coro=<receiver() running at /tmp/ipykernel_37616/2218372480.py:30>>"
      ]
     },
     "execution_count": 2,
     "metadata": {},
     "output_type": "execute_result"
    },
    {
     "name": "stdout",
     "output_type": "stream",
     "text": [
      "Receiver ready...\n",
      "\n"
     ]
    }
   ],
   "source": [
    "#Receiver\n",
    "key_init_receive = \"27082001\"\n",
    "nonce_init_receive = \"12071972\"\n",
    "\n",
    "asyncio.create_task(receiver(key_init_receive, nonce_init_receive))  # Inicia o servidor"
   ]
  },
  {
   "cell_type": "code",
   "execution_count": 3,
   "metadata": {},
   "outputs": [
    {
     "name": "stdout",
     "output_type": "stream",
     "text": [
      "Message: 270820012708200127082001\n"
     ]
    }
   ],
   "source": [
    "#Emitter, caso certo\n",
    "\n",
    "key_init_emitter = \"27082001\"\n",
    "nonce_init_emitter = \"12071972\"\n",
    "\n",
    "reader, writer = await emitter()\n",
    "# Envia a mensagem\n",
    "await send_message( key_init_emitter, nonce_init_emitter, reader, writer)\n"
   ]
  },
  {
   "cell_type": "code",
   "execution_count": 5,
   "metadata": {},
   "outputs": [
    {
     "name": "stdout",
     "output_type": "stream",
     "text": [
      "Autentication failed. Message compromised.\n"
     ]
    }
   ],
   "source": [
    "#Emitter, key errada\n",
    "\n",
    "key_init_emitter = \"27082001\"\n",
    "nonce_init_emitter = \"12071973\"\n",
    "\n",
    "# Envia a mensagem\n",
    "await send_message(key_init_emitter, nonce_init_emitter, reader, writer) \n"
   ]
  },
  {
   "cell_type": "code",
   "execution_count": 5,
   "metadata": {},
   "outputs": [
    {
     "name": "stdout",
     "output_type": "stream",
     "text": [
      "Autentication failed. Message compromised.\n"
     ]
    }
   ],
   "source": [
    "#Emitter, nonce errado\n",
    "\n",
    "key_init_emitter = \"270801\"\n",
    "nonce_init_emitter = \"12071973\"\n",
    "\n",
    "# Envia a mensagem\n",
    "await send_message(key_init_emitter, nonce_init_emitter) \n"
   ]
  }
 ],
 "metadata": {
  "kernelspec": {
   "display_name": "Python 3 (ipykernel)",
   "language": "python",
   "name": "python3"
  },
  "language_info": {
   "codemirror_mode": {
    "name": "ipython",
    "version": 3
   },
   "file_extension": ".py",
   "mimetype": "text/x-python",
   "name": "python",
   "nbconvert_exporter": "python",
   "pygments_lexer": "ipython3",
   "version": "3.11.7"
  }
 },
 "nbformat": 4,
 "nbformat_minor": 2
}
