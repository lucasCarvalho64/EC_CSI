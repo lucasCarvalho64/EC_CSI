{
 "cells": [
  {
   "cell_type": "code",
   "execution_count": 1,
   "metadata": {},
   "outputs": [],
   "source": [
    "import asyncio\n",
    "import ascon\n",
    "\n",
    "async def handle_emitter(key_init_receiver, nonce_init_receiver, reader, writer):\n",
    "        \n",
    "    # Lê os dados associados\n",
    "    data = await reader.readuntil(b'_')\n",
    "    associateddata = data.strip()\n",
    "    size = int(associateddata.decode()[:-1])\n",
    "    \n",
    "    #Lê a mensagem\n",
    "    data = await reader.readexactly(size)\n",
    "    ciphertext = data.strip()\n",
    "    \n",
    "    #gerar chave e nonce\n",
    "    key = ascon.hash(key_init_receiver.encode(), variant=\"Ascon-Xof\", hashlength=16)\n",
    "    nonce = ascon.hash(nonce_init_receiver.encode(), variant=\"Ascon-Xof\", hashlength=16)\n",
    "    \n",
    "    #decifrar a mensagem\n",
    "    plaintext = ascon.decrypt(key, nonce, associateddata, ciphertext, variant=\"Ascon-128\")\n",
    "    \n",
    "    if plaintext is None:\n",
    "        print(\"Autentication failed. Message compromised.\")\n",
    "        writer.close()\n",
    "    else:\n",
    "        print(f\"Message: {plaintext.decode()}\")\n",
    "        writer.close()\n",
    "    \n",
    "#receiver\n",
    "async def receiver(key_init_receiver, nonce_init_receiver):\n",
    "    server = await asyncio.start_server(\n",
    "        lambda reader, writer: handle_emitter(\n",
    "            key_init_receiver, nonce_init_receiver, reader, writer), '127.0.0.1', 8888)\n",
    "\n",
    "    print(\"Receiver ready...\\n\")\n",
    "\n",
    "    async with server:\n",
    "        await server.serve_forever()\n",
    "\n",
    "\n",
    "#Emitter\n",
    "async def send_message( key_init_emitter, nonce_init_emitter):\n",
    "    \n",
    "    #establecer concexão\n",
    "    reader, writer = await asyncio.open_connection('127.0.0.1', 8888)\n",
    "\n",
    "    plaintext = input(\"Enter message: \").encode()\n",
    "    #associateddata = input(\"Enter associated data: \")\n",
    "    \n",
    "    #dados associados = comprimento do text\n",
    "    associateddata = (str(len(plaintext)+16) + '_').encode()\n",
    "\n",
    "    #gerar chaves aliatórias\n",
    "    key = ascon.hash(key_init_emitter.encode(), variant=\"Ascon-Xof\", hashlength=16)\n",
    "    nonce = ascon.hash(nonce_init_emitter.encode(), variant=\"Ascon-Xof\", hashlength=16)\n",
    "    \n",
    "    #cifrar texto\n",
    "    ciphertext = ascon.encrypt(\n",
    "        key, nonce, associateddata, plaintext, variant=\"Ascon-128\")\n",
    "    \n",
    "    #anexar dados associados\n",
    "    message = associateddata + ciphertext\n",
    "\n",
    "    # Envia a mensagem para o servidor\n",
    "    writer.write(message)\n",
    "    await writer.drain()\n",
    "\n",
    "    # Fecha a conexão\n",
    "    writer.close()\n",
    "    await writer.wait_closed()\n",
    "    \n"
   ]
  },
  {
   "cell_type": "code",
   "execution_count": 2,
   "metadata": {},
   "outputs": [
    {
     "data": {
      "text/plain": [
       "<Task pending name='Task-5' coro=<receiver() running at C:\\Users\\Utilizador\\AppData\\Local\\Temp\\ipykernel_11700\\3947970274.py:40>>"
      ]
     },
     "execution_count": 2,
     "metadata": {},
     "output_type": "execute_result"
    },
    {
     "name": "stdout",
     "output_type": "stream",
     "text": [
      "Receiver ready...\n",
      "\n"
     ]
    }
   ],
   "source": [
    "#Receiver\n",
    "key_init_receive = \"27082001\"\n",
    "nonce_init_receive = \"12071972\"\n",
    "\n",
    "asyncio.create_task(receiver(key_init_receive, nonce_init_receive))  # Inicia o servidor"
   ]
  },
  {
   "cell_type": "code",
   "execution_count": 3,
   "metadata": {},
   "outputs": [
    {
     "name": "stdout",
     "output_type": "stream",
     "text": [
      "Message: Olá, teste 0101010101010101010101010101010101010101010101010101010101010101010101 teste\n",
      "AD: De Lucas\n",
      "\n"
     ]
    }
   ],
   "source": [
    "#Emitter, caso certo\n",
    "\n",
    "key_init_emitter = \"27082001\"\n",
    "nonce_init_emitter = \"12071972\"\n",
    "\n",
    "async def emitter():\n",
    "        \n",
    "    await send_message\n",
    "\n",
    "# Envia a mensagem\n",
    "await send_message( key_init_emitter, nonce_init_emitter)\n"
   ]
  },
  {
   "cell_type": "code",
   "execution_count": 4,
   "metadata": {},
   "outputs": [
    {
     "name": "stdout",
     "output_type": "stream",
     "text": [
      "Autentication failed. Message compromised.\n"
     ]
    }
   ],
   "source": [
    "#Emitter, key errada\n",
    "\n",
    "key_init_emitter = \"27082002\"\n",
    "nonce_init_emitter = \"12071972\"\n",
    "\n",
    "# Envia a mensagem\n",
    "await send_message(key_init_emitter, nonce_init_emitter) \n"
   ]
  },
  {
   "cell_type": "code",
   "execution_count": 5,
   "metadata": {},
   "outputs": [
    {
     "name": "stdout",
     "output_type": "stream",
     "text": [
      "Autentication failed. Message compromised.\n"
     ]
    }
   ],
   "source": [
    "#Emitter, nonce errado\n",
    "\n",
    "key_init_emitter = \"270801\"\n",
    "nonce_init_emitter = \"12071973\"\n",
    "\n",
    "# Envia a mensagem\n",
    "await send_message(key_init_emitter, nonce_init_emitter) \n"
   ]
  }
 ],
 "metadata": {
  "kernelspec": {
   "display_name": "pt",
   "language": "python",
   "name": "python3"
  },
  "language_info": {
   "codemirror_mode": {
    "name": "ipython",
    "version": 3
   },
   "file_extension": ".py",
   "mimetype": "text/x-python",
   "name": "python",
   "nbconvert_exporter": "python",
   "pygments_lexer": "ipython3",
   "version": "3.9.18"
  }
 },
 "nbformat": 4,
 "nbformat_minor": 2
}
