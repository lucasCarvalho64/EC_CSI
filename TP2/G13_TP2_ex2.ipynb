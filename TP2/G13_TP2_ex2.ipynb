{
 "cells": [
  {
   "cell_type": "markdown",
   "metadata": {},
   "source": [
    "# **Estruturas criptograficas: TP2 problema 2**"
   ]
  },
  {
   "cell_type": "markdown",
   "metadata": {},
   "source": [
    "## Descrição\n",
    "\n",
    "Uma das aplicações mais importantes do teorema chinês dos restos (CRT) em criptografia é a transformada NTT “Number Theoretic Transform”.  Esta transformada é uma componente importantes de “standards” PQC  como o Kyber e o Dilithium mas também de outros algoritmos submetidos ao concurso NIST PQC.  A transformação NTT tem várias opções e aquela que está apresentada no Capítulo 4:  Problemas Difíceis  usa o CRT.\n",
    "    Neste problema pretende-se uma implementação Sagemath  do NTT-CRT tal como é descrito nesse documento.\n",
    "\n",
    "Esta versão particular de NTT que deriva das propriedades do CRT só se aplica a corpos primos em que o primo q tem uma forma particular. \n",
    "Também não se aplica a qualquer elemento de q mas apenas aos conjunto de polinómios de graus inferior a um certo limite N da forma de uma potência de 2."
   ]
  },
  {
   "cell_type": "markdown",
   "metadata": {},
   "source": [
    "## Passos para calcular a transformada\n",
    "\n",
    "Escolha de um N da forma 2^d  e um primo q que  verifique q = 1 mod 2N.\n",
    "\n",
    "Calculo das raízes do polinómio da forma *omega.nth_root(2) * omega^i* em que *omega = primitive_root(q)^2* Este passo é efetuado apenas uma vez, pois apenas depende de N e q.\n",
    "\n",
    "Os N resíduos calculam-se como f(s_i)."
   ]
  },
  {
   "cell_type": "markdown",
   "metadata": {},
   "source": [
    "## Inversa da transformada\n",
    "\n",
    "Para obter o polinómio a partir da transfornada é calculado o vetor *mu* (base), atravéz dos módulos CRT (calculado apenas uma vez pois so depende de N e q)\n",
    "\n",
    "Posteriormente é feito o somatório do produto dos resíduos com o vetor mu."
   ]
  },
  {
   "cell_type": "code",
   "execution_count": 1,
   "metadata": {},
   "outputs": [],
   "source": [
    "from sage.all import *"
   ]
  },
  {
   "cell_type": "code",
   "execution_count": 2,
   "metadata": {},
   "outputs": [],
   "source": [
    "def ntt_transform(f, s):\n",
    "    \n",
    "    # Calcula a transformada NTT de f\n",
    "    trans = [f(s_i) for s_i in s]\n",
    "    \n",
    "    return trans\n",
    "\n",
    "def ntt_inverse(trans, s, mu):\n",
    "\n",
    "    # Calcula a transformada inversa\n",
    "    f_inv = [mu[i] * trans[i] for i in range(len(trans))]\n",
    "\n",
    "    return sum(f_inv)\n",
    "\n",
    "def raizes(omega, N):\n",
    "    \n",
    "    s = [omega.nth_root(2) * omega^i for i in range(N)]\n",
    "    \n",
    "    return s\n",
    "\n",
    "def base_mu(x, s, N):\n",
    "    \n",
    "    mods = [x - s[i] for i in range(N)]\n",
    "\n",
    "    mu = CRT_basis(mods)\n",
    "    \n",
    "    return mu\n",
    "    \n",
    "\n",
    "# Escolha de valores\n",
    "q = 17\n",
    "N = 8\n",
    "omega = primitive_root(q)^2\n",
    "\n",
    "# Polinômio de exemplo\n",
    "f = PolynomialRing(GF(q), 'x')\n",
    "x = f.gen()\n",
    "# f = 1 + x -2*x^2 - x^3\n",
    "\n",
    "\n",
    "# Cálculo das raízes\n",
    "s = raizes(omega, N)\n",
    "\n",
    "mu = base_mu(x, s, N)\n"
   ]
  },
  {
   "cell_type": "code",
   "execution_count": 3,
   "metadata": {},
   "outputs": [
    {
     "name": "stdout",
     "output_type": "stream",
     "text": [
      "15*x^7 + x^6 + 3*x^5 + 5*x^4 + 2*x^3 + 10*x^2 + 7\n",
      "[3, 1, 1, 4, 11, 14, 1, 4]\n",
      "15*x^7 + x^6 + 3*x^5 + 5*x^4 + 2*x^3 + 10*x^2 + 7\n"
     ]
    }
   ],
   "source": [
    "p1 = f.random_element(7)\n",
    "print(p1)\n",
    "\n",
    "trans1 = ntt_transform(p1, s)\n",
    "print(trans1)\n",
    "\n",
    "orig = ntt_inverse(trans1, s, mu)\n",
    "print(orig)"
   ]
  },
  {
   "cell_type": "markdown",
   "metadata": {},
   "source": [
    "## Teste\n",
    "\n",
    "Para testar o bom funcionamento do algoritmo, foi efetuado um teste com um N e q \"pequenos\"\n",
    "\n",
    "Primeiro é calculada a transformada de um polinómio e posteriormente obtido o polinómio original pelo processo inverso.\n",
    "\n",
    "No segundo teste é multiplicado um polinomio por ele mesmo a nível dos residuos e obtido o polinomio resultante atravéz da transformada."
   ]
  },
  {
   "cell_type": "code",
   "execution_count": null,
   "metadata": {},
   "outputs": [],
   "source": [
    "# Calcula a transformada NTT de p1\n",
    "p2 = f.random_element(3)\n",
    "print(p2)\n",
    "trans2 = ntt_transform(p2, s)\n",
    "print(trans2)\n",
    "\n",
    "# Multiplica as transformadas ponto a ponto\n",
    "trans_produto = [int(trans2[i]) * int(trans2[i]) for i in range(N)]\n",
    "print(trans_produto)\n",
    "\n",
    "# Calcula a transformada inversa do resultado da multiplicação\n",
    "produto_orig = ntt_inverse(trans_produto, s, mu)\n",
    "\n",
    "print(produto_orig)"
   ]
  }
 ],
 "metadata": {
  "kernelspec": {
   "display_name": "SageMath 10.2",
   "language": "sage",
   "name": "sagemath"
  },
  "language_info": {
   "codemirror_mode": {
    "name": "ipython",
    "version": 3
   },
   "file_extension": ".py",
   "mimetype": "text/x-python",
   "name": "python",
   "nbconvert_exporter": "python",
   "pygments_lexer": "ipython3",
   "version": "3.11.7"
  }
 },
 "nbformat": 4,
 "nbformat_minor": 2
}
