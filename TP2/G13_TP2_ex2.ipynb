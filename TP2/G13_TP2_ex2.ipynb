{
 "cells": [
  {
   "cell_type": "markdown",
   "metadata": {},
   "source": [
    "# **Estruturas criptograficas: TP2 problema 2**"
   ]
  },
  {
   "cell_type": "code",
   "execution_count": 8,
   "metadata": {},
   "outputs": [],
   "source": [
    "from sage.all import *"
   ]
  },
  {
   "cell_type": "code",
   "execution_count": 9,
   "metadata": {},
   "outputs": [
    {
     "name": "stdout",
     "output_type": "stream",
     "text": [
      "12*x^4 + 10*x^3 + 12*x + 2\n",
      "Transformada NTT de f: [5, 4, 6, 11, 5, 11, 4, 4]\n",
      "Transformada inversa de f: 12*x^4 + 10*x^3 + 12*x + 2\n"
     ]
    }
   ],
   "source": [
    "def ntt_transform(f, q, N, omega):\n",
    "\n",
    "    s = [omega.nth_root(2) * omega^i for i in range(N)]\n",
    "    \n",
    "    # Calcula a transformada NTT de f\n",
    "    trans = [f(s_i) for s_i in s]\n",
    "    \n",
    "    return trans\n",
    "\n",
    "def ntt_inverse(f, x, q, N, omega, trans):\n",
    "    \n",
    "    s = [omega.nth_root(2) * omega^i for i in range(N)]\n",
    "\n",
    "    mods = [x - s[i] for i in range(N)]\n",
    "\n",
    "    mu = CRT_basis(mods)\n",
    "\n",
    "    # Calcula a transformada inversa\n",
    "    f_inv = [mu[i] * bar_f[i] for i in range(len(bar_f))]\n",
    "\n",
    "    return sum(f_inv)\n",
    "\n",
    "# Teste\n",
    "q = 17\n",
    "N = 8\n",
    "omega = primitive_root(q)^2\n",
    "\n",
    "# print(omega)\n",
    "\n",
    "# Polinômio de exemplo\n",
    "f = PolynomialRing(GF(q), 'x').random_element(4)\n",
    "# f = PolynomialRing(GF(q), name='x')\n",
    "# x = f.gen()\n",
    "# f = 1 + x -2*x^2 - x^3\n",
    "print(f)\n",
    "\n",
    "# Transformada NTT\n",
    "bar_f = ntt_transform(f, q, N, omega)\n",
    "\n",
    "print(\"Transformada NTT de f:\", bar_f)\n",
    "\n",
    "inv_f = ntt_inverse(f, x, q, N, omega, bar_f)\n",
    "\n",
    "print(\"Transformada inversa de f:\", inv_f)\n"
   ]
  }
 ],
 "metadata": {
  "kernelspec": {
   "display_name": "SageMath 10.2",
   "language": "sage",
   "name": "sagemath"
  },
  "language_info": {
   "codemirror_mode": {
    "name": "ipython",
    "version": 3
   },
   "file_extension": ".py",
   "mimetype": "text/x-python",
   "name": "python",
   "nbconvert_exporter": "python",
   "pygments_lexer": "ipython3",
   "version": "3.11.7"
  }
 },
 "nbformat": 4,
 "nbformat_minor": 2
}
