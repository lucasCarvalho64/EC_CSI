{
 "cells": [
  {
   "cell_type": "markdown",
   "metadata": {},
   "source": [
    "# **Estruturas criptograficas: TP2 problema 2**"
   ]
  },
  {
   "cell_type": "code",
   "execution_count": 3,
   "metadata": {},
   "outputs": [],
   "source": [
    "from sage.all import *"
   ]
  },
  {
   "cell_type": "code",
   "execution_count": 34,
   "metadata": {},
   "outputs": [
    {
     "name": "stdout",
     "output_type": "stream",
     "text": [
      "<class 'sage.symbolic.expression.Expression'>\n",
      "<class 'sage.rings.polynomial.polynomial_zmod_flint.Polynomial_zmod_flint'>\n"
     ]
    },
    {
     "ename": "TypeError",
     "evalue": "positive characteristic not allowed in symbolic computations",
     "output_type": "error",
     "traceback": [
      "\u001b[0;31m---------------------------------------------------------------------------\u001b[0m",
      "\u001b[0;31mTypeError\u001b[0m                                 Traceback (most recent call last)",
      "Cell \u001b[0;32mIn[34], line 28\u001b[0m\n\u001b[1;32m     25\u001b[0m f \u001b[38;5;241m=\u001b[39m PolynomialRing(GF(q), \u001b[38;5;124m'\u001b[39m\u001b[38;5;124mx\u001b[39m\u001b[38;5;124m'\u001b[39m)\u001b[38;5;241m.\u001b[39mrandom_element(Integer(\u001b[38;5;241m6\u001b[39m))\n\u001b[1;32m     27\u001b[0m \u001b[38;5;66;03m# Transformada NTT\u001b[39;00m\n\u001b[0;32m---> 28\u001b[0m bar_f \u001b[38;5;241m=\u001b[39m ntt_transform(f, q, N, omega)\n\u001b[1;32m     30\u001b[0m \u001b[38;5;28mprint\u001b[39m(\u001b[38;5;124m\"\u001b[39m\u001b[38;5;124mTransformada NTT de f:\u001b[39m\u001b[38;5;124m\"\u001b[39m, bar_f)\n",
      "Cell \u001b[0;32mIn[34], line 15\u001b[0m, in \u001b[0;36mntt_transform\u001b[0;34m(f, q, N, omega)\u001b[0m\n\u001b[1;32m     11\u001b[0m \u001b[38;5;28mprint\u001b[39m(\u001b[38;5;28mtype\u001b[39m(f))\n\u001b[1;32m     14\u001b[0m \u001b[38;5;66;03m# Calcula a transformada NTT de f\u001b[39;00m\n\u001b[0;32m---> 15\u001b[0m trans \u001b[38;5;241m=\u001b[39m [f(x)\u001b[38;5;241m.\u001b[39mmod(q_i[i]) \u001b[38;5;28;01mfor\u001b[39;00m i \u001b[38;5;129;01min\u001b[39;00m \u001b[38;5;28mrange\u001b[39m(\u001b[38;5;28mlen\u001b[39m(s))]\n\u001b[1;32m     17\u001b[0m \u001b[38;5;28;01mreturn\u001b[39;00m trans\n",
      "Cell \u001b[0;32mIn[34], line 15\u001b[0m, in \u001b[0;36m<listcomp>\u001b[0;34m(.0)\u001b[0m\n\u001b[1;32m     11\u001b[0m \u001b[38;5;28mprint\u001b[39m(\u001b[38;5;28mtype\u001b[39m(f))\n\u001b[1;32m     14\u001b[0m \u001b[38;5;66;03m# Calcula a transformada NTT de f\u001b[39;00m\n\u001b[0;32m---> 15\u001b[0m trans \u001b[38;5;241m=\u001b[39m [f(x)\u001b[38;5;241m.\u001b[39mmod(q_i[i]) \u001b[38;5;28;01mfor\u001b[39;00m i \u001b[38;5;129;01min\u001b[39;00m \u001b[38;5;28mrange\u001b[39m(\u001b[38;5;28mlen\u001b[39m(s))]\n\u001b[1;32m     17\u001b[0m \u001b[38;5;28;01mreturn\u001b[39;00m trans\n",
      "File \u001b[0;32m~/miniconda3/envs/EC/lib/python3.11/site-packages/sage/rings/polynomial/polynomial_zmod_flint.pyx:326\u001b[0m, in \u001b[0;36msage.rings.polynomial.polynomial_zmod_flint.Polynomial_zmod_flint.__call__ (build/cythonized/sage/rings/polynomial/polynomial_zmod_flint.cpp:22300)\u001b[0;34m()\u001b[0m\n\u001b[1;32m    324\u001b[0m             nmod_poly_compose(&t.x, &self.x, &y.x)\n\u001b[1;32m    325\u001b[0m             return t\n\u001b[0;32m--> 326\u001b[0m     return Polynomial.__call__(self, *x, **kwds)\n\u001b[1;32m    327\u001b[0m \n\u001b[1;32m    328\u001b[0m @coerce_binop\n",
      "File \u001b[0;32m~/miniconda3/envs/EC/lib/python3.11/site-packages/sage/rings/polynomial/polynomial_element.pyx:903\u001b[0m, in \u001b[0;36msage.rings.polynomial.polynomial_element.Polynomial.__call__ (build/cythonized/sage/rings/polynomial/polynomial_element.c:20214)\u001b[0;34m()\u001b[0m\n\u001b[1;32m    901\u001b[0m # This can save lots of coercions when the common parent is the\n\u001b[1;32m    902\u001b[0m # polynomial's base ring (e.g., for evaluations at integers).\n\u001b[0;32m--> 903\u001b[0m cst, aa = coercion_model.canonical_coercion(cst, a)\n\u001b[1;32m    904\u001b[0m # Use fast multiplication actions like matrix × scalar.\n\u001b[1;32m    905\u001b[0m # If there is no action, replace a by an element of the\n",
      "File \u001b[0;32m~/miniconda3/envs/EC/lib/python3.11/site-packages/sage/structure/coerce.pyx:1340\u001b[0m, in \u001b[0;36msage.structure.coerce.CoercionModel.canonical_coercion (build/cythonized/sage/structure/coerce.c:17302)\u001b[0;34m()\u001b[0m\n\u001b[1;32m   1338\u001b[0m x_map, y_map = coercions\n\u001b[1;32m   1339\u001b[0m if x_map is not None:\n\u001b[0;32m-> 1340\u001b[0m     x_elt = (<Map>x_map)._call_(x)\n\u001b[1;32m   1341\u001b[0m else:\n\u001b[1;32m   1342\u001b[0m     x_elt = x\n",
      "File \u001b[0;32m~/miniconda3/envs/EC/lib/python3.11/site-packages/sage/structure/coerce_maps.pyx:163\u001b[0m, in \u001b[0;36msage.structure.coerce_maps.DefaultConvertMap_unique._call_ (build/cythonized/sage/structure/coerce_maps.c:6957)\u001b[0;34m()\u001b[0m\n\u001b[1;32m    161\u001b[0m             print(type(C), C)\n\u001b[1;32m    162\u001b[0m             print(type(C._element_constructor), C._element_constructor)\n\u001b[0;32m--> 163\u001b[0m         raise\n\u001b[1;32m    164\u001b[0m \n\u001b[1;32m    165\u001b[0m cpdef Element _call_with_args(self, x, args=(), kwds={}) noexcept:\n",
      "File \u001b[0;32m~/miniconda3/envs/EC/lib/python3.11/site-packages/sage/structure/coerce_maps.pyx:158\u001b[0m, in \u001b[0;36msage.structure.coerce_maps.DefaultConvertMap_unique._call_ (build/cythonized/sage/structure/coerce_maps.c:6849)\u001b[0;34m()\u001b[0m\n\u001b[1;32m    156\u001b[0m cdef Parent C = self._codomain\n\u001b[1;32m    157\u001b[0m try:\n\u001b[0;32m--> 158\u001b[0m     return C._element_constructor(x)\n\u001b[1;32m    159\u001b[0m except Exception:\n\u001b[1;32m    160\u001b[0m     if print_warnings:\n",
      "File \u001b[0;32m~/miniconda3/envs/EC/lib/python3.11/site-packages/sage/symbolic/ring.pyx:376\u001b[0m, in \u001b[0;36msage.symbolic.ring.SymbolicRing._element_constructor_ (build/cythonized/sage/symbolic/ring.c:8483)\u001b[0;34m()\u001b[0m\n\u001b[1;32m    374\u001b[0m         TypeError: Malformed expression: λ + * !!!  1\n\u001b[1;32m    375\u001b[0m     \"\"\"\n\u001b[0;32m--> 376\u001b[0m     return new_Expression(self, x)\n\u001b[1;32m    377\u001b[0m \n\u001b[1;32m    378\u001b[0m def _force_pyobject(self, x, bint force=False, bint recursive=True):\n",
      "File \u001b[0;32m~/miniconda3/envs/EC/lib/python3.11/site-packages/sage/symbolic/expression.pyx:13800\u001b[0m, in \u001b[0;36msage.symbolic.expression.new_Expression (build/cythonized/sage/symbolic/expression.cpp:125628)\u001b[0;34m()\u001b[0m\n\u001b[1;32m  13798\u001b[0m elif isinstance(x, (RingElement, Matrix)):\n\u001b[1;32m  13799\u001b[0m     if x.parent().characteristic():\n\u001b[0;32m> 13800\u001b[0m         raise TypeError('positive characteristic not allowed in symbolic computations')\n\u001b[1;32m  13801\u001b[0m     exp = x\n\u001b[1;32m  13802\u001b[0m elif isinstance(x, Factorization):\n",
      "\u001b[0;31mTypeError\u001b[0m: positive characteristic not allowed in symbolic computations"
     ]
    }
   ],
   "source": [
    "def ntt_transform(f, q, N, omega):\n",
    "    # Calcula as raízes primitivas da unidade\n",
    "    # s = [nth_root(omega, 2) * omega^i for i in range(N)]\n",
    "    # s = [omega.nth_root(2) * omega^i for i in range(N)]\n",
    "    s = [sqrt(omega) * omega^i for i in range(N)]\n",
    "    \n",
    "    # Calcula os módulos CRT\n",
    "    q_i = [(x - s_i) for s_i in s]\n",
    "    \n",
    "    print(type(q_i[0]))\n",
    "    print(type(f))\n",
    "    \n",
    "    \n",
    "    # Calcula a transformada NTT de f\n",
    "    trans = [x % q_i[i] for i in range(len(s))]\n",
    "    \n",
    "    return trans\n",
    "\n",
    "# Teste\n",
    "q = 13\n",
    "N = 8\n",
    "omega = primitive_root(q)\n",
    "\n",
    "# Polinômio de exemplo\n",
    "f = PolynomialRing(GF(q), 'x').random_element(6)\n",
    "\n",
    "# Transformada NTT\n",
    "bar_f = ntt_transform(f, q, N, omega)\n",
    "\n",
    "print(\"Transformada NTT de f:\", bar_f)"
   ]
  }
 ],
 "metadata": {
  "kernelspec": {
   "display_name": "SageMath 10.2",
   "language": "sage",
   "name": "sagemath"
  },
  "language_info": {
   "codemirror_mode": {
    "name": "ipython",
    "version": 3
   },
   "file_extension": ".py",
   "mimetype": "text/x-python",
   "name": "python",
   "nbconvert_exporter": "python",
   "pygments_lexer": "ipython3",
   "version": "3.11.7"
  }
 },
 "nbformat": 4,
 "nbformat_minor": 2
}
