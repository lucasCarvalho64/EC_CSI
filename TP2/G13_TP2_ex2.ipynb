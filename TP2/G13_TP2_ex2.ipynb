{
 "cells": [
  {
   "cell_type": "markdown",
   "metadata": {},
   "source": [
    "# **Estruturas criptograficas: TP2 problema 2**"
   ]
  },
  {
   "cell_type": "markdown",
   "metadata": {},
   "source": [
    "## Descrição\n",
    "\n",
    "Uma das aplicações mais importantes do teorema chinês dos restos (CRT) em criptografia é a transformada NTT “Number Theoretic Transform”.  Esta transformada é uma componente importantes de “standards” PQC  como o Kyber e o Dilithium mas também de outros algoritmos submetidos ao concurso NIST PQC.  A transformação NTT tem várias opções e aquela que está apresentada no Capítulo 4:  Problemas Difíceis  usa o CRT.\n",
    "    Neste problema pretende-se uma implementação Sagemath  do NTT-CRT tal como é descrito nesse documento.\n",
    "\n",
    "Esta versão particular de NTT que deriva das propriedades do CRT só se aplica a corpos primos em que o primo q tem uma forma particular. \n",
    "Também não se aplica a qualquer elemento de q mas apenas aos conjunto de polinómios de graus inferior a um certo limite N da forma de uma potência de 2."
   ]
  },
  {
   "cell_type": "markdown",
   "metadata": {},
   "source": [
    "## Passos para calcular a transformada\n",
    "\n",
    "Escolha de um N da forma 2^d  e um primo q que  verifique q = 1 mod 2N.\n",
    "\n",
    "Calculo das raízes do polinómio da forma *omega.nth_root(2) * omega^i* em que *omega = primitive_root(q)^2* Este passo é efetuado apenas uma vez, pois apenas depende de N e q.\n",
    "\n",
    "Os N resíduos calculam-se como f(s_i)."
   ]
  },
  {
   "cell_type": "markdown",
   "metadata": {},
   "source": [
    "## Inversa da transformada\n",
    "\n",
    "Para obter o polinómio a partir da transfornada é calculado o vetor *mu* (base), atravéz dos módulos CRT (calculado apenas uma vez pois so depende de N e q)\n",
    "\n",
    "Posteriormente é feito o somatório do produto dos resíduos com o vetor mu."
   ]
  },
  {
   "cell_type": "code",
   "execution_count": 1,
   "metadata": {},
   "outputs": [],
   "source": [
    "from sage.all import *"
   ]
  },
  {
   "cell_type": "code",
   "execution_count": 2,
   "metadata": {},
   "outputs": [],
   "source": [
    "def ntt_transform(f, s):\n",
    "    \n",
    "    # Calcula a transformada NTT de f\n",
    "    trans = [f(s_i) for s_i in s]\n",
    "    \n",
    "    return trans\n",
    "\n",
    "def ntt_inverse(trans, mu):\n",
    "\n",
    "    # Calcula a transformada inversa\n",
    "    f_inv = [mu[i] * trans[i] for i in range(len(trans))]\n",
    "\n",
    "    return sum(f_inv)\n",
    "\n",
    "def raizes(omega, N):\n",
    "    \n",
    "    s = [omega.nth_root(2) * omega^i for i in range(N)]\n",
    "    \n",
    "    return s\n",
    "\n",
    "def base_mu(x, s, N):\n",
    "    \n",
    "    mods = [x - s[i] for i in range(N)]\n",
    "\n",
    "    mu = CRT_basis(mods)\n",
    "    \n",
    "    return mu\n",
    "    \n",
    "\n",
    "# Escolha de valores\n",
    "q = 3329\n",
    "N = 256\n",
    "omega = primitive_root(q)^2\n",
    "\n",
    "# Polinômio de exemplo\n",
    "f = PolynomialRing(GF(q), 'w')\n",
    "w = f.gen()\n",
    "# f = 1 + x -2*x^2 - x^3\n",
    "\n",
    "\n",
    "# Cálculo das raízes\n",
    "s = raizes(omega, N)\n",
    "\n",
    "mu = base_mu(w, s, N)\n"
   ]
  },
  {
   "cell_type": "code",
   "execution_count": 3,
   "metadata": {},
   "outputs": [
    {
     "name": "stdout",
     "output_type": "stream",
     "text": [
      "w^254 + w^251 + w^248 + w^246 + w^245 + w^241 + w^240 + w^239 + w^237 + w^236 + w^235 + w^234 + w^233 + w^231 + w^228 + w^223 + w^222 + w^221 + w^220 + w^219 + w^214 + w^212 + w^210 + w^206 + w^204 + w^202 + w^198 + w^197 + w^193 + w^192 + w^191 + w^190 + w^189 + w^188 + w^187 + w^185 + w^183 + w^182 + w^181 + w^179 + w^178 + w^177 + w^173 + w^172 + w^170 + w^169 + w^166 + w^165 + w^161 + w^158 + w^157 + w^156 + w^154 + w^153 + w^152 + w^151 + w^149 + w^148 + w^145 + w^144 + w^142 + w^140 + w^139 + w^138 + w^134 + w^128 + w^126 + w^125 + w^123 + w^121 + w^119 + w^118 + w^117 + w^116 + w^113 + w^111 + w^109 + w^106 + w^105 + w^104 + w^100 + w^98 + w^95 + w^94 + w^93 + w^92 + w^91 + w^90 + w^89 + w^87 + w^86 + w^80 + w^78 + w^76 + w^72 + w^70 + w^69 + w^68 + w^67 + w^66 + w^64 + w^63 + w^60 + w^57 + w^56 + w^54 + w^53 + w^52 + w^49 + w^42 + w^41 + w^40 + w^38 + w^36 + w^35 + w^32 + w^31 + w^30 + w^28 + w^27 + w^25 + w^21 + w^18 + w^17 + w^15 + w^12 + w^11 + w^9 + w^7 + w^6 + w^5 + 1\n",
      "[1042, 2215, 960, 1303, 2209, 2250, 1656, 1644, 2680, 2471, 1342, 451, 2271, 1448, 2851, 2777, 2230, 2670, 1628, 1295, 987, 1139, 1524, 1298, 1625, 2326, 1476, 1939, 1074, 2636, 1186, 899, 594, 512, 395, 2472, 3078, 2759, 879, 2275, 555, 712, 143, 3203, 432, 633, 1340, 2641, 2233, 2666, 3285, 2163, 1452, 3027, 607, 2832, 2309, 2111, 165, 1082, 2619, 898, 3318, 2719, 1183, 591, 697, 2963, 1118, 1684, 475, 2755, 2925, 2573, 2478, 752, 1448, 1412, 997, 1681, 2716, 7, 2562, 1029, 2616, 182, 134, 2690, 2047, 748, 280, 841, 2235, 2490, 745, 1298, 2888, 896, 3294, 3144, 1299, 2107, 3185, 2758, 390, 1335, 2993, 3180, 1167, 393, 204, 1680, 126, 3196, 1527, 1679, 2788, 2088, 2476, 2484, 309, 535, 1191, 3020, 3116, 830, 3028, 892, 1499, 3245, 1837, 1950, 2332, 1113, 2027, 2469, 284, 461, 2405, 1340, 2217, 2430, 3319, 1484, 3217, 1418, 1629, 499, 64, 2986, 1933, 2923, 1070, 1264, 1112, 1113, 770, 2538, 3106, 776, 2131, 3236, 2039, 1115, 2191, 1484, 362, 3323, 2969, 714, 3091, 1501, 693, 890, 2718, 945, 1968, 1319, 643, 1397, 1891, 2560, 2425, 2963, 1091, 856, 2111, 1812, 3099, 2051, 3014, 701, 1672, 1929, 1261, 1893, 1643, 2388, 1217, 155, 3060, 3159, 2942, 2626, 2507, 1387, 2332, 1163, 1084, 1959, 2145, 2705, 2992, 3033, 2441, 2567, 1166, 3071, 2402, 3026, 461, 1491, 145, 1854, 1779, 456, 3216, 2744, 1313, 910, 2813, 218, 289, 1192, 2314, 2047, 821, 2686, 2998, 724, 127, 2409, 3296, 1336, 2498, 2749, 2400, 1088, 1225, 386, 1065, 2508, 2831, 2318, 2855, 2776]\n",
      "w^254 + w^251 + w^248 + w^246 + w^245 + w^241 + w^240 + w^239 + w^237 + w^236 + w^235 + w^234 + w^233 + w^231 + w^228 + w^223 + w^222 + w^221 + w^220 + w^219 + w^214 + w^212 + w^210 + w^206 + w^204 + w^202 + w^198 + w^197 + w^193 + w^192 + w^191 + w^190 + w^189 + w^188 + w^187 + w^185 + w^183 + w^182 + w^181 + w^179 + w^178 + w^177 + w^173 + w^172 + w^170 + w^169 + w^166 + w^165 + w^161 + w^158 + w^157 + w^156 + w^154 + w^153 + w^152 + w^151 + w^149 + w^148 + w^145 + w^144 + w^142 + w^140 + w^139 + w^138 + w^134 + w^128 + w^126 + w^125 + w^123 + w^121 + w^119 + w^118 + w^117 + w^116 + w^113 + w^111 + w^109 + w^106 + w^105 + w^104 + w^100 + w^98 + w^95 + w^94 + w^93 + w^92 + w^91 + w^90 + w^89 + w^87 + w^86 + w^80 + w^78 + w^76 + w^72 + w^70 + w^69 + w^68 + w^67 + w^66 + w^64 + w^63 + w^60 + w^57 + w^56 + w^54 + w^53 + w^52 + w^49 + w^42 + w^41 + w^40 + w^38 + w^36 + w^35 + w^32 + w^31 + w^30 + w^28 + w^27 + w^25 + w^21 + w^18 + w^17 + w^15 + w^12 + w^11 + w^9 + w^7 + w^6 + w^5 + 1\n"
     ]
    }
   ],
   "source": [
    "# p1 = f.random_element(7)\n",
    "p1 = w^254 + w^251 + w^248 + w^246 + w^245 + w^241 + w^240 + w^239 + w^237 + w^236 + w^235 + w^234 + w^233 + w^231 + w^228 + w^223 + w^222 + w^221 + w^220 + w^219 + w^214 + w^212 + w^210 + w^206 + w^204 + w^202 + w^198 + w^197 + w^193 + w^192 + w^191 + w^190 + w^189 + w^188 + w^187 + w^185 + w^183 + w^182 + w^181 + w^179 + w^178 + w^177 + w^173 + w^172 + w^170 + w^169 + w^166 + w^165 + w^161 + w^158 + w^157 + w^156 + w^154 + w^153 + w^152 + w^151 + w^149 + w^148 + w^145 + w^144 + w^142 + w^140 + w^139 + w^138 + w^134 + w^128 + w^126 + w^125 + w^123 + w^121 + w^119 + w^118 + w^117 + w^116 + w^113 + w^111 + w^109 + w^106 + w^105 + w^104 + w^100 + w^98 + w^95 + w^94 + w^93 + w^92 + w^91 + w^90 + w^89 + w^87 + w^86 + w^80 + w^78 + w^76 + w^72 + w^70 + w^69 + w^68 + w^67 + w^66 + w^64 + w^63 + w^60 + w^57 + w^56 + w^54 + w^53 + w^52 + w^49 + w^42 + w^41 + w^40 + w^38 + w^36 + w^35 + w^32 + w^31 + w^30 + w^28 + w^27 + w^25 + w^21 + w^18 + w^17 + w^15 + w^12 + w^11 + w^9 + w^7 + w^6 + w^5 + 1\n",
    "print(p1)\n",
    "\n",
    "trans1 = ntt_transform(p1, s)\n",
    "print(trans1)\n",
    "\n",
    "orig = ntt_inverse(trans1, mu)\n",
    "print(orig)"
   ]
  },
  {
   "cell_type": "markdown",
   "metadata": {},
   "source": [
    "## Teste\n",
    "\n",
    "Para testar o bom funcionamento do algoritmo, foi efetuado um teste com um N e q \"pequenos\"\n",
    "\n",
    "Primeiro é calculada a transformada de um polinómio e posteriormente obtido o polinómio original pelo processo inverso.\n",
    "\n",
    "No segundo teste é multiplicado um polinomio por ele mesmo a nível dos residuos e obtido o polinomio resultante atravéz da transformada."
   ]
  },
  {
   "cell_type": "code",
   "execution_count": 4,
   "metadata": {},
   "outputs": [
    {
     "name": "stdout",
     "output_type": "stream",
     "text": [
      "2409*w^3 + 680*w^2 + 1744*w + 429\n",
      "[257, 2010, 2286, 1304, 1352, 2389, 1, 964, 2780, 1346, 791, 2723, 1434, 233, 1462, 363, 891, 3190, 2020, 96, 3192, 2486, 508, 1113, 864, 705, 555, 1448, 1792, 2804, 292, 1501, 1813, 1897, 1262, 2880, 2333, 3224, 2731, 159, 2279, 2037, 3007, 1553, 455, 1274, 229, 2442, 1817, 1223, 3106, 970, 170, 1347, 1245, 2072, 2592, 1052, 770, 264, 2787, 1602, 2807, 2682, 291, 2670, 33, 2142, 2516, 699, 2239, 999, 493, 780, 2727, 2803, 408, 531, 2208, 2483, 1683, 1984, 2285, 2209, 1152, 1300, 2176, 1928, 2259, 2164, 1872, 2102, 975, 2824, 1039, 3106, 937, 677, 2489, 3056, 776, 2432, 2881, 1320, 1418, 2707, 832, 3270, 2606, 792, 2657, 1511, 2914, 1211, 2376, 2409, 1824, 1396, 2952, 1356, 1854, 373, 2122, 1154, 752, 1046, 614, 3247, 1937, 1672, 492, 1599, 2809, 2219, 1350, 327, 29, 2070, 2087, 2982, 702, 3181, 1430, 990, 1430, 1596, 2151, 2432, 842, 1767, 2614, 2650, 2713, 2856, 2109, 1726, 2365, 785, 2426, 3053, 120, 2713, 1954, 3160, 2616, 2084, 3323, 781, 526, 495, 2028, 1186, 1175, 1841, 2888, 2086, 810, 552, 575, 2424, 690, 605, 2622, 1291, 1893, 2852, 2513, 3192, 211, 3099, 250, 2997, 999, 2458, 2183, 797, 2870, 1895, 3216, 2481, 2388, 2815, 2953, 818, 639, 2962, 1313, 1163, 1324, 217, 1338, 209, 554, 1870, 3095, 1054, 2968, 2700, 1809, 1918, 1379, 2032, 3271, 683, 41, 1542, 1256, 3020, 1894, 872, 3253, 1042, 2748, 3034, 364, 1645, 1149, 2348, 1332, 2956, 100, 2984, 2486, 2177, 2851, 2223, 842, 941, 2823, 1387, 2401, 1301, 1259, 670, 1465, 1707]\n",
      "[66049, 4040100, 5225796, 1700416, 1827904, 5707321, 1, 929296, 7728400, 1811716, 625681, 7414729, 2056356, 54289, 2137444, 131769, 793881, 10176100, 4080400, 9216, 10188864, 6180196, 258064, 1238769, 746496, 497025, 308025, 2096704, 3211264, 7862416, 85264, 2253001, 3286969, 3598609, 1592644, 8294400, 5442889, 10394176, 7458361, 25281, 5193841, 4149369, 9042049, 2411809, 207025, 1623076, 52441, 5963364, 3301489, 1495729, 9647236, 940900, 28900, 1814409, 1550025, 4293184, 6718464, 1106704, 592900, 69696, 7767369, 2566404, 7879249, 7193124, 84681, 7128900, 1089, 4588164, 6330256, 488601, 5013121, 998001, 243049, 608400, 7436529, 7856809, 166464, 281961, 4875264, 6165289, 2832489, 3936256, 5221225, 4879681, 1327104, 1690000, 4734976, 3717184, 5103081, 4682896, 3504384, 4418404, 950625, 7974976, 1079521, 9647236, 877969, 458329, 6195121, 9339136, 602176, 5914624, 8300161, 1742400, 2010724, 7327849, 692224, 10692900, 6791236, 627264, 7059649, 2283121, 8491396, 1466521, 5645376, 5803281, 3326976, 1948816, 8714304, 1838736, 3437316, 139129, 4502884, 1331716, 565504, 1094116, 376996, 10543009, 3751969, 2795584, 242064, 2556801, 7890481, 4923961, 1822500, 106929, 841, 4284900, 4355569, 8892324, 492804, 10118761, 2044900, 980100, 2044900, 2547216, 4626801, 5914624, 708964, 3122289, 6832996, 7022500, 7360369, 8156736, 4447881, 2979076, 5593225, 616225, 5885476, 9320809, 14400, 7360369, 3818116, 9985600, 6843456, 4343056, 11042329, 609961, 276676, 245025, 4112784, 1406596, 1380625, 3389281, 8340544, 4351396, 656100, 304704, 330625, 5875776, 476100, 366025, 6874884, 1666681, 3583449, 8133904, 6315169, 10188864, 44521, 9603801, 62500, 8982009, 998001, 6041764, 4765489, 635209, 8236900, 3591025, 10342656, 6155361, 5702544, 7924225, 8720209, 669124, 408321, 8773444, 1723969, 1352569, 1752976, 47089, 1790244, 43681, 306916, 3496900, 9579025, 1110916, 8809024, 7290000, 3272481, 3678724, 1901641, 4129024, 10699441, 466489, 1681, 2377764, 1577536, 9120400, 3587236, 760384, 10582009, 1085764, 7551504, 9205156, 132496, 2706025, 1320201, 5513104, 1774224, 8737936, 10000, 8904256, 6180196, 4739329, 8128201, 4941729, 708964, 885481, 7969329, 1923769, 5764801, 1692601, 1585081, 448900, 2146225, 2913849]\n",
      "834*w^6 + 504*w^5 + 3194*w^4 + 1205*w^3 + 3024*w^2 + 1631*w + 946\n",
      "834*w^6 + 504*w^5 + 3194*w^4 + 1205*w^3 + 3024*w^2 + 1631*w + 946\n"
     ]
    }
   ],
   "source": [
    "# Calcula a transformada NTT de p1\n",
    "p2 = f.random_element(3)\n",
    "print(p2)\n",
    "trans2 = ntt_transform(p2, s)\n",
    "print(trans2)\n",
    "\n",
    "# Multiplica as transformadas ponto a ponto\n",
    "trans_produto = [int(trans2[i]) * int(trans2[i]) for i in range(N)]\n",
    "print(trans_produto)\n",
    "\n",
    "# Calcula a transformada inversa do resultado da multiplicação\n",
    "produto_orig = ntt_inverse(trans_produto, mu)\n",
    "\n",
    "print(produto_orig)\n",
    "\n",
    "print(p2*p2)"
   ]
  }
 ],
 "metadata": {
  "kernelspec": {
   "display_name": "SageMath 10.2",
   "language": "sage",
   "name": "sagemath"
  },
  "language_info": {
   "codemirror_mode": {
    "name": "ipython",
    "version": 3
   },
   "file_extension": ".py",
   "mimetype": "text/x-python",
   "name": "python",
   "nbconvert_exporter": "python",
   "pygments_lexer": "ipython3",
   "version": "3.11.7"
  }
 },
 "nbformat": 4,
 "nbformat_minor": 2
}
