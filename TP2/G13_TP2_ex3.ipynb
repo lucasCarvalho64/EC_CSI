{
 "cells": [
  {
   "cell_type": "markdown",
   "metadata": {},
   "source": [
    "# **Estruturas criptograficas: TP2 problema 3**"
   ]
  },
  {
   "cell_type": "markdown",
   "metadata": {},
   "source": [
    "## Geração de chaves\n",
    "\n",
    "Para a geração de um segredo administrativo **s** e uma chave pública administrativa **beta**, foi gerado um nonce de forma pseudo-aleatória, e posteriormente aplicada uma função de **hash**, (previamente definida no construtor da classe). De seguida, o resultado dessa função de hash foi transformado em inteiro e aplicado um mod com o valor de **q**, resultando desta forma, no segredo **s**. Para obter a chave pública **beta** multiplicámos a chave **s** com o ponto **G**, pertencente à curva elíptica definida através dos parâmetros públicos establecidos, que mais uma vez foram definidos no construtor da classe.\n",
    "\n",
    "## Cifragem\n",
    "\n",
    "O processo de cifragem, consiste na transformação da chave pública, (gerada através do id do emissor) e do plaintext, num criptograma pronto a ser enviado para o recetor. Desta forma, o recetor poderá associar uma mensagem, a uma identidade criptográfica.\n",
    "\n",
    "Para cifrar a mensagem, seguimos todos os passos descritos tanto nos apontamentos da cadeira, como no RFC5091.\n",
    "\n",
    "\n",
    "## Extração de chave \n",
    "\n",
    "O algoritmo de extração de chave consiste, na multiplicação no segredo administrativo **s** que é transmitido ao recetor aravés de um canal seguro (privado), com a chave públia **id**, obtendo desta forma uma chave capaz de decifrar o criptograma e consequentemente confirmar a identidade do emissor.\n",
    "\n",
    "## Decifragem\n",
    "\n",
    "Para deifrar o criptograma, são executadas as operações descritas no RFC, envolvendo o criptograma e a chave obtida através da função KeyExtract, com o objetivo obter a mensagem criada e enviada pelo emissor.\n",
    "\n",
    "## Casos de Teste\n",
    "\n",
    "Para testar o bom funcionamento do algoritmo de cifragem orientada à identidade, ciframos uma mensagem qualquer, com uma identidade qualquer, neste caso \"Universidade do Minho\", e deciframos a mesma mensagem com a identidade correta e outra com a identidade incorreta. Como seria de esperar, obtivémos os resultados pretendidos."
   ]
  },
  {
   "cell_type": "code",
   "execution_count": 1,
   "metadata": {},
   "outputs": [],
   "source": [
    "import hashlib, os\n",
    "from sage.all import *"
   ]
  },
  {
   "cell_type": "code",
   "execution_count": 2,
   "metadata": {},
   "outputs": [],
   "source": [
    "class BF:\n",
    "    \n",
    "    def __init__(self):\n",
    "        self.version = 2\n",
    "        self.n = 1024\n",
    "        self.n_p = 512\n",
    "        self.n_q = 160\n",
    "        self.hashfnc = hashlib.sha1\n",
    "        \n",
    "        self.q = random_prime(2^self.n_q-1,lbound=2^(self.n_q-1))\n",
    "                \n",
    "        # print(\"q:\" + str(q))\n",
    "        \n",
    "        t = self.q*3*2^(self.n_p - self.n_q)\n",
    "        while not is_prime(t-1):\n",
    "            t = t << 1\n",
    "\n",
    "        self.p = t - 1\n",
    "        \n",
    "        # print(\"p:\" + str(p))\n",
    "        \n",
    "        self.Fp     = GF(self.p)                  # corpo primo com \"p\" elementos\n",
    "        R.<z>  = self.Fp[]                   # anel dos polinomios em \"z\" de coeficientes em Fp\n",
    "        f     = R(z^2 + z + 1)\n",
    "        Fp2.<z> = GF(self.p^2, modulus=f)   \n",
    "        self.E2 = EllipticCurve(Fp2, [0,1])\n",
    "\n",
    "        # ponto arbitrário  de ordem \"q\" em E2        \n",
    "        cofac = (self.p + 1)// self.q\n",
    "        self.G = cofac * self.E2.random_point()\n",
    "        # print(\"G:\" + str(G.xy()))\n",
    "\n",
    "        \n",
    "    def ID(self, id):\n",
    "        id_int = self.h(id)\n",
    "        return self.g(id_int)\n",
    "        \n",
    "    def g(self, n):\n",
    "        return n * self.G\n",
    "    \n",
    "    def h(self, a):\n",
    "        return int.from_bytes(a.encode(), byteorder='big')\n",
    "    \n",
    "    def H(self, a):\n",
    "        return mod(a, self.q)\n",
    "    \n",
    "    def KeyGen(self):\n",
    "        s = 0\n",
    "        while s <= 2:\n",
    "            nounce = os.urandom(16)\n",
    "            s = self.hashfnc(nounce).digest()\n",
    "            s = int.from_bytes(s, byteorder='big')\n",
    "            s = s % self.q\n",
    "        \n",
    "        beta = self.g(s)\n",
    "                \n",
    "        return s, beta\n",
    "    \n",
    "    def KeyExtract(self, id, s):\n",
    "        d = self.ID(id)\n",
    "        \n",
    "        key = s * d\n",
    "\n",
    "        return key    \n",
    "    \n",
    "    def phi(self, P):             # a isogenia que mapeia  (x,y)  ->  (z*x,y)\n",
    "        R.<z>  = self.Fp[]                   \n",
    "        f     = R(z^2 + z + 1)\n",
    "        Fp2.<z> = GF(self.p^2, modulus=f) \n",
    "        \n",
    "        (x,y) = P.xy()\n",
    "        return self.E2(z*x,y)\n",
    "    \n",
    "    def TateX(self, P, Q, l=1):      # o emparelhamento de Tate generalizado\n",
    "        return P.tate_pairing(self.phi(Q), self.q, 2)^l \n",
    "\n",
    "    def trace(self, x):       # função linear que mapeia Fp2  em  Fp\n",
    "        return x + x^self.p    \n",
    "        \n",
    "    def Encrypt(self, beta, id, x):\n",
    "        x = self.h(x)\n",
    "        \n",
    "        #IN\n",
    "        d = self.ID(id)\n",
    "        \n",
    "        nounce = os.urandom(16)\n",
    "        v = self.hashfnc(nounce).digest()\n",
    "        v = int.from_bytes(v, byteorder='big')\n",
    "        v = v % self.q\n",
    "        \n",
    "        a = self.H(v ^^ x)\n",
    "        \n",
    "        mu = self.TateX(beta, d, a)\n",
    "\n",
    "        \n",
    "        #OUT\n",
    "        alfa = self.g(a)\n",
    "        \n",
    "        v_ = self.trace(mu)\n",
    "        v_ = int(v) ^^ int(v_)\n",
    "\n",
    "        x_ = int(x) ^^ int(self.H(v))\n",
    "        \n",
    "        print(\"Encryption finished!\")\n",
    "        \n",
    "        return alfa, v_, x_\n",
    "        \n",
    "    \n",
    "    def Decrypt(self, alfa, v_, x_, key):\n",
    "        \n",
    "        #IN\n",
    "        mu = self.TateX(alfa, key)\n",
    "        \n",
    "        v = self.trace(mu)\n",
    "        v = int(v_) ^^ int(v)\n",
    "        \n",
    "        x = int(x_) ^^ int(self.H(v))\n",
    "        \n",
    "        #OUT\n",
    "        a = self.H(v ^^ x)\n",
    "        \n",
    "        if alfa == self.g(a):\n",
    "            m = (int(x).to_bytes((int(x.bit_length()) + 7) // 8, byteorder='big')).decode()\n",
    "            print(\"Decryption successful!\\nMessage: \" + m)\n",
    "            return m\n",
    "        else:\n",
    "            print(\"Decryption failed!\")\n",
    "            return None\n",
    "    \n",
    "       "
   ]
  },
  {
   "cell_type": "markdown",
   "metadata": {},
   "source": [
    "### Geração de chave e Cifragem"
   ]
  },
  {
   "cell_type": "code",
   "execution_count": 3,
   "metadata": {},
   "outputs": [
    {
     "name": "stdout",
     "output_type": "stream",
     "text": [
      "Encryption finished!\n"
     ]
    }
   ],
   "source": [
    "bf = BF()\n",
    "\n",
    "s, beta = bf.KeyGen()\n",
    "\n",
    "alfa, v_, x_ = bf.Encrypt(beta, \"Universidade do Minho\", \"Uma mensagem qualquer\")\n"
   ]
  },
  {
   "cell_type": "markdown",
   "metadata": {},
   "source": [
    "### Decifragem Bem Sucedida"
   ]
  },
  {
   "cell_type": "code",
   "execution_count": 4,
   "metadata": {},
   "outputs": [
    {
     "name": "stdout",
     "output_type": "stream",
     "text": [
      "Decryption successful!\n",
      "Message: Uma mensagem qualquer\n"
     ]
    }
   ],
   "source": [
    "key = bf.KeyExtract(\"Universidade do Minho\", s)\n",
    "\n",
    "m = bf.Decrypt(alfa, v_, x_, key)"
   ]
  },
  {
   "cell_type": "markdown",
   "metadata": {},
   "source": [
    "### Decifragem com uma identidade incorreta"
   ]
  },
  {
   "cell_type": "code",
   "execution_count": 5,
   "metadata": {},
   "outputs": [
    {
     "name": "stdout",
     "output_type": "stream",
     "text": [
      "Decryption failed!\n"
     ]
    }
   ],
   "source": [
    "key = bf.KeyExtract(\"Universidade de Coimbra\", s)\n",
    "\n",
    "m = bf.Decrypt(alfa, v_, x_, key)"
   ]
  }
 ],
 "metadata": {
  "kernelspec": {
   "display_name": "SageMath 10.2",
   "language": "sage",
   "name": "sagemath"
  },
  "language_info": {
   "codemirror_mode": {
    "name": "ipython",
    "version": 3
   },
   "file_extension": ".py",
   "mimetype": "text/x-python",
   "name": "python",
   "nbconvert_exporter": "python",
   "pygments_lexer": "ipython3",
   "version": "3.11.7"
  }
 },
 "nbformat": 4,
 "nbformat_minor": 2
}
